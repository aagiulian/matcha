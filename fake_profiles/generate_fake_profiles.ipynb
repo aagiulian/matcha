{
 "cells": [
  {
   "cell_type": "code",
   "execution_count": 1,
   "metadata": {},
   "outputs": [],
   "source": [
    "#from shapely.geometry import Point\n",
    "from functools import reduce\n",
    "from faker import Faker\n",
    "from tqdm import tqdm\n",
    "import numpy as np\n",
    "import pandas as pd\n",
    "import matplotlib.pyplot as plt\n",
    "import seaborn as sns\n",
    "#import geopandas as gpd\n",
    "import datetime\n",
    "import random\n",
    "import pprint\n",
    "import bcrypt\n",
    "#import click\n",
    "import time\n",
    "import json\n",
    "import pytz\n",
    "%matplotlib inline\n",
    "\n",
    "pp = pprint.PrettyPrinter(indent=2)"
   ]
  },
  {
   "cell_type": "code",
   "execution_count": 2,
   "metadata": {},
   "outputs": [],
   "source": [
    "def sort_subreddits(filename, sort_with):\n",
    "    profile_pics = {}\n",
    "    with open(filename, 'r') as subreddit_file:\n",
    "        subs = json.load(subreddit_file)\n",
    "        for k,v in sort_with.items():\n",
    "            profile_pics[k] = reduce(lambda x,y: list(set(x + subs[y])), v, [])\n",
    "    return profile_pics\n",
    "\n",
    "def sexual_orientation():\n",
    "    orientation = [\n",
    "        'heterosexual',\n",
    "        'homosexual',\n",
    "        'bisexual']\n",
    "    return np.random.choice(orientation, p=[0.6, 0.2, 0.2])\n",
    "\n",
    "\n",
    "looking_for = {\n",
    "    \"male\": {\n",
    "        \"heterosexual\": \"{female}\",\n",
    "        \"homosexual\": \"{male}\",\n",
    "        \"bisexual\": \"{male,female}\",\n",
    "    },\n",
    "    \"female\": {\n",
    "        \"heterosexual\": \"{male}\",\n",
    "        \"homosexual\": \"{female}\",\n",
    "        \"bisexual\": \"{male,female}\",\n",
    "    }\n",
    "} "
   ]
  },
  {
   "cell_type": "code",
   "execution_count": 11,
   "metadata": {},
   "outputs": [],
   "source": [
    "def profile_pic_generator():\n",
    "    subreddit_genders = {\n",
    "        'female': ['catpictures', 'blep'],\n",
    "        'male': ['dogpictures', 'blop']\n",
    "    }\n",
    "    profile_pics = sort_subreddits('./blep_catpictures_blop_dogpictures.json', subreddit_genders)\n",
    "    length = {'male': len(profile_pics['male']),\n",
    "              'female': len(profile_pics['female'])}\n",
    "    counter = {'male': 0,\n",
    "               'female': 0}\n",
    "    def next_profile_pic(gender):\n",
    "        if gender not in ['male', 'female']:\n",
    "            return ''\n",
    "        picture_url = profile_pics[gender][counter[gender] % length[gender]]\n",
    "        counter[gender] += 1\n",
    "        return picture_url\n",
    "    return next_profile_pic"
   ]
  },
  {
   "cell_type": "code",
   "execution_count": 12,
   "metadata": {},
   "outputs": [],
   "source": [
    "def generate_age_distribution(min_age = 18, max_age = 77, size = 1000):\n",
    "    ages = 13 + 12 * np.random.lognormal(0, 0.42, size = size)\n",
    "    return np.clip(ages, min_age, max_age)\n",
    "\n",
    "def plot_distribution(dist):\n",
    "    print(\"min:\", min(dist))\n",
    "    print(\"max:\", max(dist))\n",
    "    num_bins = 2 * int(max(dist) - min(dist))\n",
    "    plt.hist(dist, bins = num_bins if num_bins < 420 else 420)\n",
    "    plt.show()"
   ]
  },
  {
   "cell_type": "code",
   "execution_count": 13,
   "metadata": {},
   "outputs": [
    {
     "name": "stdout",
     "output_type": "stream",
     "text": [
      "min: 18.0\n",
      "max: 61.94134341928026\n"
     ]
    },
    {
     "data": {
      "image/png": "[encoded data removed]",
      "text/plain": [
       "<Figure size 432x288 with 1 Axes>"
      ]
     },
     "metadata": {
      "needs_background": "light"
     },
     "output_type": "display_data"
    }
   ],
   "source": [
    "ages = generate_age_distribution()\n",
    "plot_distribution(ages)"
   ]
  },
  {
   "cell_type": "code",
   "execution_count": 14,
   "metadata": {},
   "outputs": [],
   "source": [
    "def generate_date_of_birth(min_age = 18, max_age = 77, size = 1000):\n",
    "    tz = pytz.timezone('Europe/Paris')\n",
    "    ages = generate_age_distribution(min_age, max_age, size)\n",
    "    now = datetime.datetime.now(tz)\n",
    "    dob = [(now - datetime.timedelta(days = int(366 * age))).strftime(format=\"%Y-%m-%d %H:%M:%S%z\") for age in ages]\n",
    "    return dob"
   ]
  },
  {
   "cell_type": "code",
   "execution_count": 15,
   "metadata": {},
   "outputs": [
    {
     "name": "stdout",
     "output_type": "stream",
     "text": [
      "['1992-07-28 01:49:14+0200', '1990-05-30 01:49:14+0200', '1996-01-08 01:49:14+0200', '1989-10-05 01:49:14+0200', '1994-06-17 01:49:14+0200', '1980-05-23 01:49:14+0200', '1991-08-01 01:49:14+0200', '1990-02-20 01:49:14+0200', '1994-07-03 01:49:14+0200', '1994-06-14 01:49:14+0200']\n"
     ]
    }
   ],
   "source": [
    "dob = generate_date_of_birth(size=10)\n",
    "print(dob)"
   ]
  },
  {
   "cell_type": "code",
   "execution_count": 16,
   "metadata": {},
   "outputs": [
    {
     "name": "stdout",
     "output_type": "stream",
     "text": [
      "min: 2.864936095524075\n",
      "max: 5242.559585710882\n"
     ]
    },
    {
     "data": {
      "image/png": "[encoded data removed]",
      "text/plain": [
       "<Figure size 432x288 with 1 Axes>"
      ]
     },
     "metadata": {
      "needs_background": "light"
     },
     "output_type": "display_data"
    }
   ],
   "source": [
    "def generate_minutes_distribution(size = 1000):\n",
    "    minutes = 100 * np.random.lognormal(0, 1.2, size = size)\n",
    "    return minutes\n",
    "\n",
    "plot_distribution(generate_minutes_distribution())"
   ]
  },
  {
   "cell_type": "code",
   "execution_count": 17,
   "metadata": {},
   "outputs": [],
   "source": [
    "def generate_last_seen(size = 1000):\n",
    "    tz = pytz.timezone('Europe/Paris')\n",
    "    minutes = generate_minutes_distribution(size = size)\n",
    "    now = datetime.datetime.now(tz)\n",
    "    last_seen = [(now - datetime.timedelta(seconds = int(60 * minute))).strftime(format=\"%Y-%m-%d %H:%M:%S%z\") for minute in minutes]\n",
    "    return last_seen"
   ]
  },
  {
   "cell_type": "code",
   "execution_count": null,
   "metadata": {},
   "outputs": [],
   "source": []
  },
  {
   "cell_type": "code",
   "execution_count": 18,
   "metadata": {},
   "outputs": [],
   "source": [
    "def generate_fake_profiles(size = 1000):\n",
    "    start = time.time()\n",
    "    fake = Faker('fr_FR')\n",
    "    next_profile_pic = profile_pic_generator()\n",
    "    hashed_password = bcrypt.hashpw(\"auie\".encode('utf-8'), bcrypt.gensalt(10))\n",
    "    profiles = []\n",
    "    \n",
    "    for _ in tqdm(range(size)):\n",
    "        profile = fake.profile()\n",
    "        profile['hashed_password'] = hashed_password\n",
    "        name = profile['name'].split(' ')\n",
    "        profile['firstname'] = name[0]\n",
    "        profile['lastname'] = ' '.join(name[1:])\n",
    "        profile['gender'] = 'male' if profile['sex'] == 'M' else 'female'\n",
    "        profile['sexual_orientation'] = sexual_orientation()\n",
    "        profile['lookingfor'] = looking_for[profile['gender']][profile['sexual_orientation']]\n",
    "        profile['bio'] = fake.text(max_nb_chars = 200)\n",
    "        profile['num_pics'] = 1\n",
    "        profile['url_pp'] = next_profile_pic(profile['gender'])\n",
    "        profile['email'] = profile['mail']\n",
    "        lon, lat = fake.local_latlng(country_code=\"FR\", coords_only=True)\n",
    "        profile['location'] =  '(' + lat + ',' + lon + ')'\n",
    "        profile['popularity_score'] = random.randrange(100)\n",
    "        profile['verified'] = True\n",
    "        profile.pop('mail')\n",
    "        profile.pop('birthdate')\n",
    "        profile.pop('blood_group')\n",
    "        profile.pop('address')\n",
    "        profile.pop('company')\n",
    "        profile.pop('job')\n",
    "        profile.pop('name')\n",
    "        profile.pop('residence')\n",
    "        profile.pop('sex')\n",
    "        profile.pop('ssn')\n",
    "        profile.pop('website')\n",
    "        profile.pop('current_location')\n",
    "        profiles.append(profile)\n",
    "        \n",
    "    df = pd.DataFrame(profiles)\n",
    "    df['date_of_birth'] = generate_date_of_birth(min_age = 18, max_age = 77, size = size)\n",
    "    df['last_seen'] = generate_last_seen(size = size)\n",
    "    original_length = len(df)\n",
    "    df = df.drop_duplicates('username')\n",
    "    df = df.drop_duplicates('email')\n",
    "    num_duplicated = original_length - len(df)\n",
    "    if (num_duplicated):\n",
    "        print(\"dropped {} row(s) (duplicated email or username)\".format(num_duplicated))\n",
    "    return df\n"
   ]
  },
  {
   "cell_type": "code",
   "execution_count": 19,
   "metadata": {},
   "outputs": [
    {
     "name": "stderr",
     "output_type": "stream",
     "text": [
      "100%|██████████| 1000/1000 [00:03<00:00, 306.04it/s]\n"
     ]
    },
    {
     "name": "stdout",
     "output_type": "stream",
     "text": [
      "dropped 1 row(s) (duplicated email or username)\n"
     ]
    }
   ],
   "source": [
    "df = generate_fake_profiles(size = 1000)"
   ]
  },
  {
   "cell_type": "code",
   "execution_count": 20,
   "metadata": {},
   "outputs": [
    {
     "data": {
      "text/html": [
       "<div>\n",
       "<style scoped>\n",
       "    .dataframe tbody tr th:only-of-type {\n",
       "        vertical-align: middle;\n",
       "    }\n",
       "\n",
       "    .dataframe tbody tr th {\n",
       "        vertical-align: top;\n",
       "    }\n",
       "\n",
       "    .dataframe thead th {\n",
       "        text-align: right;\n",
       "    }\n",
       "</style>\n",
       "<table border=\"1\" class=\"dataframe\">\n",
       "  <thead>\n",
       "    <tr style=\"text-align: right;\">\n",
       "      <th></th>\n",
       "      <th>bio</th>\n",
       "      <th>email</th>\n",
       "      <th>firstname</th>\n",
       "      <th>gender</th>\n",
       "      <th>hashed_password</th>\n",
       "      <th>lastname</th>\n",
       "      <th>location</th>\n",
       "      <th>lookingfor</th>\n",
       "      <th>num_pics</th>\n",
       "      <th>popularity_score</th>\n",
       "      <th>sexual_orientation</th>\n",
       "      <th>url_pp</th>\n",
       "      <th>username</th>\n",
       "      <th>verified</th>\n",
       "      <th>date_of_birth</th>\n",
       "      <th>last_seen</th>\n",
       "    </tr>\n",
       "  </thead>\n",
       "  <tbody>\n",
       "    <tr>\n",
       "      <th>0</th>\n",
       "      <td>Travail point bien serrer repousser. Pur diffé...</td>\n",
       "      <td>anaisguerin@hotmail.fr</td>\n",
       "      <td>Maurice</td>\n",
       "      <td>male</td>\n",
       "      <td>$2a$10$0RsOGUbpqMBUSvYv8v7.LuSIHMOl/Q85zBloE1w...</td>\n",
       "      <td>Joly</td>\n",
       "      <td>(8.73812,41.91886)</td>\n",
       "      <td>{male,female}</td>\n",
       "      <td>1</td>\n",
       "      <td>48</td>\n",
       "      <td>bisexual</td>\n",
       "      <td>https://i.imgur.com/fSVPU9R.jpg</td>\n",
       "      <td>claudineleclerc</td>\n",
       "      <td>True</td>\n",
       "      <td>1982-01-14 01:49:22+0200</td>\n",
       "      <td>2019-05-15 19:01:55+0200</td>\n",
       "    </tr>\n",
       "    <tr>\n",
       "      <th>1</th>\n",
       "      <td>Sauter fleur jeter écouter sueur air. Relever ...</td>\n",
       "      <td>rleger@club-internet.fr</td>\n",
       "      <td>Grégoire-Stéphane</td>\n",
       "      <td>male</td>\n",
       "      <td>$2a$10$0RsOGUbpqMBUSvYv8v7.LuSIHMOl/Q85zBloE1w...</td>\n",
       "      <td>Maury</td>\n",
       "      <td>(2.1699,48.98994)</td>\n",
       "      <td>{female}</td>\n",
       "      <td>1</td>\n",
       "      <td>38</td>\n",
       "      <td>heterosexual</td>\n",
       "      <td>https://i.imgur.com/lDP6S70.jpg</td>\n",
       "      <td>adampauline</td>\n",
       "      <td>True</td>\n",
       "      <td>1999-04-15 01:49:22+0200</td>\n",
       "      <td>2019-05-15 21:29:44+0200</td>\n",
       "    </tr>\n",
       "    <tr>\n",
       "      <th>2</th>\n",
       "      <td>Lequel voici grandir moi figure. Comme relatio...</td>\n",
       "      <td>irodriguez@sfr.fr</td>\n",
       "      <td>Grégoire</td>\n",
       "      <td>male</td>\n",
       "      <td>$2a$10$0RsOGUbpqMBUSvYv8v7.LuSIHMOl/Q85zBloE1w...</td>\n",
       "      <td>Barbier</td>\n",
       "      <td>(2.18967,48.8765)</td>\n",
       "      <td>{female}</td>\n",
       "      <td>1</td>\n",
       "      <td>3</td>\n",
       "      <td>heterosexual</td>\n",
       "      <td>http://i.imgur.com/6fwQvXu.jpg</td>\n",
       "      <td>agneslaunay</td>\n",
       "      <td>True</td>\n",
       "      <td>1980-02-17 01:49:22+0200</td>\n",
       "      <td>2019-05-15 15:52:58+0200</td>\n",
       "    </tr>\n",
       "    <tr>\n",
       "      <th>3</th>\n",
       "      <td>Digne curiosité moindre signifier demain coule...</td>\n",
       "      <td>guillonauguste@tele2.fr</td>\n",
       "      <td>Victoire</td>\n",
       "      <td>female</td>\n",
       "      <td>$2a$10$0RsOGUbpqMBUSvYv8v7.LuSIHMOl/Q85zBloE1w...</td>\n",
       "      <td>Mendes de Guillon</td>\n",
       "      <td>(5.4584,43.32393)</td>\n",
       "      <td>{male}</td>\n",
       "      <td>1</td>\n",
       "      <td>19</td>\n",
       "      <td>heterosexual</td>\n",
       "      <td>http://i.imgur.com/5EAt3pj.jpg</td>\n",
       "      <td>agneslefebvre</td>\n",
       "      <td>True</td>\n",
       "      <td>1992-07-10 01:49:22+0200</td>\n",
       "      <td>2019-05-16 01:07:21+0200</td>\n",
       "    </tr>\n",
       "    <tr>\n",
       "      <th>4</th>\n",
       "      <td>Ajouter assez sombre corde. Dos grâce souffler...</td>\n",
       "      <td>margaud19@bouygtel.fr</td>\n",
       "      <td>Brigitte-Élisabeth</td>\n",
       "      <td>female</td>\n",
       "      <td>$2a$10$0RsOGUbpqMBUSvYv8v7.LuSIHMOl/Q85zBloE1w...</td>\n",
       "      <td>Martin</td>\n",
       "      <td>(2.61667,48.98333)</td>\n",
       "      <td>{male}</td>\n",
       "      <td>1</td>\n",
       "      <td>19</td>\n",
       "      <td>heterosexual</td>\n",
       "      <td>https://imgur.com/23fZYtM.jpg</td>\n",
       "      <td>nrodriguez</td>\n",
       "      <td>True</td>\n",
       "      <td>1997-02-26 01:49:22+0200</td>\n",
       "      <td>2019-05-15 22:36:43+0200</td>\n",
       "    </tr>\n",
       "  </tbody>\n",
       "</table>\n",
       "</div>"
      ],
      "text/plain": [
       "                                                 bio                    email  \\\n",
       "0  Travail point bien serrer repousser. Pur diffé...   anaisguerin@hotmail.fr   \n",
       "1  Sauter fleur jeter écouter sueur air. Relever ...  rleger@club-internet.fr   \n",
       "2  Lequel voici grandir moi figure. Comme relatio...        irodriguez@sfr.fr   \n",
       "3  Digne curiosité moindre signifier demain coule...  guillonauguste@tele2.fr   \n",
       "4  Ajouter assez sombre corde. Dos grâce souffler...    margaud19@bouygtel.fr   \n",
       "\n",
       "            firstname  gender  \\\n",
       "0             Maurice    male   \n",
       "1   Grégoire-Stéphane    male   \n",
       "2            Grégoire    male   \n",
       "3            Victoire  female   \n",
       "4  Brigitte-Élisabeth  female   \n",
       "\n",
       "                                     hashed_password           lastname  \\\n",
       "0  $2a$10$0RsOGUbpqMBUSvYv8v7.LuSIHMOl/Q85zBloE1w...               Joly   \n",
       "1  $2a$10$0RsOGUbpqMBUSvYv8v7.LuSIHMOl/Q85zBloE1w...              Maury   \n",
       "2  $2a$10$0RsOGUbpqMBUSvYv8v7.LuSIHMOl/Q85zBloE1w...            Barbier   \n",
       "3  $2a$10$0RsOGUbpqMBUSvYv8v7.LuSIHMOl/Q85zBloE1w...  Mendes de Guillon   \n",
       "4  $2a$10$0RsOGUbpqMBUSvYv8v7.LuSIHMOl/Q85zBloE1w...             Martin   \n",
       "\n",
       "             location     lookingfor  num_pics  popularity_score  \\\n",
       "0  (8.73812,41.91886)  {male,female}         1                48   \n",
       "1   (2.1699,48.98994)       {female}         1                38   \n",
       "2   (2.18967,48.8765)       {female}         1                 3   \n",
       "3   (5.4584,43.32393)         {male}         1                19   \n",
       "4  (2.61667,48.98333)         {male}         1                19   \n",
       "\n",
       "  sexual_orientation                           url_pp         username  \\\n",
       "0           bisexual  https://i.imgur.com/fSVPU9R.jpg  claudineleclerc   \n",
       "1       heterosexual  https://i.imgur.com/lDP6S70.jpg      adampauline   \n",
       "2       heterosexual   http://i.imgur.com/6fwQvXu.jpg      agneslaunay   \n",
       "3       heterosexual   http://i.imgur.com/5EAt3pj.jpg    agneslefebvre   \n",
       "4       heterosexual    https://imgur.com/23fZYtM.jpg       nrodriguez   \n",
       "\n",
       "   verified             date_of_birth                 last_seen  \n",
       "0      True  1982-01-14 01:49:22+0200  2019-05-15 19:01:55+0200  \n",
       "1      True  1999-04-15 01:49:22+0200  2019-05-15 21:29:44+0200  \n",
       "2      True  1980-02-17 01:49:22+0200  2019-05-15 15:52:58+0200  \n",
       "3      True  1992-07-10 01:49:22+0200  2019-05-16 01:07:21+0200  \n",
       "4      True  1997-02-26 01:49:22+0200  2019-05-15 22:36:43+0200  "
      ]
     },
     "execution_count": 20,
     "metadata": {},
     "output_type": "execute_result"
    }
   ],
   "source": [
    "df.head()"
   ]
  },
  {
   "cell_type": "code",
   "execution_count": 13,
   "metadata": {},
   "outputs": [],
   "source": [
    "#df.to_csv(\"../db/fake_profiles.csv\", sep = ';', index_label = 'id')\n",
    "df.to_csv(\"../db/fake_profiles.csv\", sep = ';', index = False)"
   ]
  },
  {
   "cell_type": "code",
   "execution_count": null,
   "metadata": {},
   "outputs": [],
   "source": []
  }
 ],
 "metadata": {
  "kernelspec": {
   "display_name": "Python 3",
   "language": "python",
   "name": "python3"
  },
  "language_info": {
   "codemirror_mode": {
    "name": "ipython",
    "version": 3
   },
   "file_extension": ".py",
   "mimetype": "text/x-python",
   "name": "python",
   "nbconvert_exporter": "python",
   "pygments_lexer": "ipython3",
   "version": "3.6.7"
  }
 },
 "nbformat": 4,
 "nbformat_minor": 2
}
