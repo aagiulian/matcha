{
 "cells": [
  {
   "cell_type": "code",
   "execution_count": 1,
   "metadata": {},
   "outputs": [],
   "source": [
    "#from shapely.geometry import Point\n",
    "from functools import reduce\n",
    "from faker import Faker\n",
    "from tqdm import tqdm\n",
    "import numpy as np\n",
    "import pandas as pd\n",
    "import matplotlib.pyplot as plt\n",
    "import seaborn as sns\n",
    "#import geopandas as gpd\n",
    "import datetime\n",
    "import random\n",
    "import pprint\n",
    "import bcrypt\n",
    "import click\n",
    "import time\n",
    "import json\n",
    "import pytz\n",
    "%matplotlib inline\n",
    "\n",
    "pp = pprint.PrettyPrinter(indent=2)"
   ]
  },
  {
   "cell_type": "code",
   "execution_count": 2,
   "metadata": {},
   "outputs": [],
   "source": [
    "def sort_subreddits(filename, sort_with):\n",
    "    profile_pics = {}\n",
    "    with open(filename, 'r') as subreddit_file:\n",
    "        subs = json.load(subreddit_file)\n",
    "        for k,v in sort_with.items():\n",
    "            profile_pics[k] = reduce(lambda x,y: list(set(x + subs[y])), v, [])\n",
    "    return profile_pics\n",
    "\n",
    "def sexual_orientation():\n",
    "    orientation = [\n",
    "        'heterosexual',\n",
    "        'homosexual',\n",
    "        'bisexual']\n",
    "    return np.random.choice(orientation, p=[0.6, 0.2, 0.2])\n"
   ]
  },
  {
   "cell_type": "code",
   "execution_count": 3,
   "metadata": {},
   "outputs": [],
   "source": [
    "def profile_pic_generator():\n",
    "    subreddit_genders = {\n",
    "        'male': ['ladyboners', 'hotguys'],\n",
    "        'female': ['prettygirls', 'beautifulfemales']\n",
    "    }\n",
    "    profile_pics = sort_subreddits('./ladyboners_hotguys_prettygirls_beautifulfemales.json', subreddit_genders)\n",
    "    length = {'male': len(profile_pics['male']),\n",
    "              'female': len(profile_pics['female'])}\n",
    "    counter = {'male': 0,\n",
    "               'female': 0}\n",
    "    def next_profile_pic(gender):\n",
    "        if gender not in ['male', 'female']:\n",
    "            return ''\n",
    "        picture_url = profile_pics[gender][counter[gender] % length[gender]]\n",
    "        counter[gender] += 1\n",
    "        return picture_url\n",
    "    return next_profile_pic"
   ]
  },
  {
   "cell_type": "code",
   "execution_count": 4,
   "metadata": {},
   "outputs": [],
   "source": [
    "def generate_age_distribution(min_age = 18, max_age = 77, size = 1000):\n",
    "    ages = 13 + 12 * np.random.lognormal(0, 0.42, size = size)\n",
    "    return np.clip(ages, min_age, max_age)\n",
    "\n",
    "def plot_distribution(dist):\n",
    "    print(\"min:\", min(dist))\n",
    "    print(\"max:\", max(dist))\n",
    "    num_bins = 2 * int(max(dist) - min(dist))\n",
    "    plt.hist(dist, bins = num_bins if num_bins < 420 else 420)\n",
    "    plt.show()"
   ]
  },
  {
   "cell_type": "code",
   "execution_count": 5,
   "metadata": {},
   "outputs": [
    {
     "name": "stdout",
     "output_type": "stream",
     "text": [
      "min: 18.0\n",
      "max: 50.37641026383524\n"
     ]
    },
    {
     "data": {
      "image/png": "[encoded data removed]",
      "text/plain": [
       "<Figure size 432x288 with 1 Axes>"
      ]
     },
     "metadata": {
      "needs_background": "light"
     },
     "output_type": "display_data"
    }
   ],
   "source": [
    "ages = generate_age_distribution()\n",
    "plot_distribution(ages)"
   ]
  },
  {
   "cell_type": "code",
   "execution_count": 6,
   "metadata": {},
   "outputs": [],
   "source": [
    "def generate_date_of_birth(min_age = 18, max_age = 77, size = 1000):\n",
    "    tz = pytz.timezone('Europe/Paris')\n",
    "    ages = generate_age_distribution(min_age, max_age, size)\n",
    "    now = datetime.datetime.now(tz)\n",
    "    dob = [(now - datetime.timedelta(days = int(366 * age))).strftime(format=\"%Y-%m-%d %H:%M:%S%z\") for age in ages]\n",
    "    return dob"
   ]
  },
  {
   "cell_type": "code",
   "execution_count": 7,
   "metadata": {},
   "outputs": [
    {
     "name": "stdout",
     "output_type": "stream",
     "text": [
      "['2000-09-07 04:58:22+0200', '1999-12-23 04:58:22+0200', '1991-12-15 04:58:22+0200', '1991-06-29 04:58:22+0200', '1996-06-28 04:58:22+0200', '1998-06-15 04:58:22+0200', '1997-12-31 04:58:22+0200', '1996-08-30 04:58:22+0200', '1994-07-10 04:58:22+0200', '1990-11-15 04:58:22+0200']\n"
     ]
    }
   ],
   "source": [
    "dob = generate_date_of_birth(size=10)\n",
    "print(dob)"
   ]
  },
  {
   "cell_type": "code",
   "execution_count": 8,
   "metadata": {},
   "outputs": [
    {
     "name": "stdout",
     "output_type": "stream",
     "text": [
      "min: 3.4642988577979184\n",
      "max: 2957.803465850396\n"
     ]
    },
    {
     "data": {
      "image/png": "[encoded data removed]",
      "text/plain": [
       "<Figure size 432x288 with 1 Axes>"
      ]
     },
     "metadata": {
      "needs_background": "light"
     },
     "output_type": "display_data"
    }
   ],
   "source": [
    "def generate_minutes_distribution(size = 1000):\n",
    "    minutes = 100 * np.random.lognormal(0, 1.2, size = size)\n",
    "    return minutes\n",
    "\n",
    "plot_distribution(generate_minutes_distribution())"
   ]
  },
  {
   "cell_type": "code",
   "execution_count": 9,
   "metadata": {},
   "outputs": [],
   "source": [
    "def generate_last_seen(size = 1000):\n",
    "    tz = pytz.timezone('Europe/Paris')\n",
    "    minutes = generate_minutes_distribution(size = size)\n",
    "    now = datetime.datetime.now(tz)\n",
    "    last_seen = [(now - datetime.timedelta(seconds = int(60 * minute))).strftime(format=\"%Y-%m-%d %H:%M:%S%z\") for minute in minutes]\n",
    "    return last_seen"
   ]
  },
  {
   "cell_type": "code",
   "execution_count": null,
   "metadata": {},
   "outputs": [],
   "source": []
  },
  {
   "cell_type": "code",
   "execution_count": 28,
   "metadata": {},
   "outputs": [],
   "source": [
    "def generate_fake_profiles(size = 1000):\n",
    "    start = time.time()\n",
    "    fake = Faker('fr_FR')\n",
    "    next_profile_pic = profile_pic_generator()\n",
    "    hashed_password = bcrypt.hashpw(\"auie\", bcrypt.gensalt(10))\n",
    "    profiles = []\n",
    "    \n",
    "    for _ in tqdm(range(size)):\n",
    "        profile = fake.profile()\n",
    "        profile['hashed_password'] = hashed_password\n",
    "        name = profile['name'].split(' ')\n",
    "        profile['firstname'] = name[0]\n",
    "        profile['lastname'] = ' '.join(name[1:])\n",
    "        profile['gender'] = 'male' if profile['sex'] == 'M' else 'female'\n",
    "        profile['sexual_orientation'] = sexual_orientation()\n",
    "        profile['bio'] = fake.text(max_nb_chars = 200)\n",
    "        profile['num_pics'] = 1\n",
    "        profile['url_pp'] = next_profile_pic(profile['gender'])\n",
    "        profile['email'] = profile['mail']\n",
    "        lon, lat = fake.local_latlng(country_code=\"FR\", coords_only=True)\n",
    "        profile['position'] =  '(' + lat + ',' + lon + ')'\n",
    "        profile['popularity_score'] = random.randrange(100)\n",
    "        profile['verified'] = True\n",
    "        profile.pop('mail')\n",
    "        profile.pop('birthdate')\n",
    "        profile.pop('blood_group')\n",
    "        profile.pop('address')\n",
    "        profile.pop('company')\n",
    "        profile.pop('job')\n",
    "        profile.pop('name')\n",
    "        profile.pop('residence')\n",
    "        profile.pop('sex')\n",
    "        profile.pop('ssn')\n",
    "        profile.pop('website')\n",
    "        profile.pop('current_location')\n",
    "        profiles.append(profile)\n",
    "        \n",
    "    df = pd.DataFrame(profiles)\n",
    "    df['date_of_birth'] = generate_date_of_birth(min_age = 18, max_age = 77, size = size)\n",
    "    df['last_seen'] = generate_last_seen(size = size)\n",
    "    original_length = len(df)\n",
    "    df = df.drop_duplicates('username')\n",
    "    df = df.drop_duplicates('email')\n",
    "    num_duplicated = original_length - len(df)\n",
    "    if (num_duplicated):\n",
    "        print(\"dropped {} row(s) (duplicated email or username)\".format(num_duplicated))\n",
    "    return df\n"
   ]
  },
  {
   "cell_type": "code",
   "execution_count": 29,
   "metadata": {},
   "outputs": [
    {
     "name": "stderr",
     "output_type": "stream",
     "text": [
      "100%|██████████| 1000/1000 [00:04<00:00, 205.18it/s]"
     ]
    },
    {
     "name": "stdout",
     "output_type": "stream",
     "text": [
      "dropped 10 row(s) (duplicated email or username)\n"
     ]
    },
    {
     "name": "stderr",
     "output_type": "stream",
     "text": [
      "\n"
     ]
    }
   ],
   "source": [
    "df = generate_fake_profiles(size = 1000)"
   ]
  },
  {
   "cell_type": "code",
   "execution_count": 30,
   "metadata": {},
   "outputs": [
    {
     "data": {
      "text/html": [
       "<div>\n",
       "<style scoped>\n",
       "    .dataframe tbody tr th:only-of-type {\n",
       "        vertical-align: middle;\n",
       "    }\n",
       "\n",
       "    .dataframe tbody tr th {\n",
       "        vertical-align: top;\n",
       "    }\n",
       "\n",
       "    .dataframe thead th {\n",
       "        text-align: right;\n",
       "    }\n",
       "</style>\n",
       "<table border=\"1\" class=\"dataframe\">\n",
       "  <thead>\n",
       "    <tr style=\"text-align: right;\">\n",
       "      <th></th>\n",
       "      <th>bio</th>\n",
       "      <th>email</th>\n",
       "      <th>firstname</th>\n",
       "      <th>gender</th>\n",
       "      <th>hashed_password</th>\n",
       "      <th>lastname</th>\n",
       "      <th>num_pics</th>\n",
       "      <th>popularity_score</th>\n",
       "      <th>position</th>\n",
       "      <th>sexual_orientation</th>\n",
       "      <th>url_pp</th>\n",
       "      <th>username</th>\n",
       "      <th>verified</th>\n",
       "      <th>date_of_birth</th>\n",
       "      <th>last_seen</th>\n",
       "    </tr>\n",
       "  </thead>\n",
       "  <tbody>\n",
       "    <tr>\n",
       "      <th>0</th>\n",
       "      <td>Travers long arrêter trésor.\\nPont ennemi mais...</td>\n",
       "      <td>besnardraymond@tiscali.fr</td>\n",
       "      <td>Denis</td>\n",
       "      <td>male</td>\n",
       "      <td>$2a$10$bPpp92tEaeb7a47YbXKwJueHBDOeLQOLZNRNe/Q...</td>\n",
       "      <td>Michaud</td>\n",
       "      <td>1</td>\n",
       "      <td>60</td>\n",
       "      <td>(4.7934,45.69558)</td>\n",
       "      <td>homosexual</td>\n",
       "      <td>https://66.media.tumblr.com/15fe3cfc35c276b302...</td>\n",
       "      <td>gabrielle46</td>\n",
       "      <td>True</td>\n",
       "      <td>1992-09-07 05:17:38+0200</td>\n",
       "      <td>2019-05-09 02:43:45+0200</td>\n",
       "    </tr>\n",
       "    <tr>\n",
       "      <th>1</th>\n",
       "      <td>Personne gens lui ministre. Produire mort musi...</td>\n",
       "      <td>marthe66@sfr.fr</td>\n",
       "      <td>Martin</td>\n",
       "      <td>male</td>\n",
       "      <td>$2a$10$bPpp92tEaeb7a47YbXKwJueHBDOeLQOLZNRNe/Q...</td>\n",
       "      <td>Chauvet</td>\n",
       "      <td>1</td>\n",
       "      <td>28</td>\n",
       "      <td>(1.33467,43.61058)</td>\n",
       "      <td>heterosexual</td>\n",
       "      <td>http://i.imgur.com/jgjcv.jpg</td>\n",
       "      <td>alainrodrigues</td>\n",
       "      <td>True</td>\n",
       "      <td>1996-12-09 05:17:38+0200</td>\n",
       "      <td>2019-05-09 04:00:52+0200</td>\n",
       "    </tr>\n",
       "    <tr>\n",
       "      <th>2</th>\n",
       "      <td>Facile miser lever. Enfin perdre machine siège...</td>\n",
       "      <td>agodard@noos.fr</td>\n",
       "      <td>Margot</td>\n",
       "      <td>female</td>\n",
       "      <td>$2a$10$bPpp92tEaeb7a47YbXKwJueHBDOeLQOLZNRNe/Q...</td>\n",
       "      <td>Pereira</td>\n",
       "      <td>1</td>\n",
       "      <td>94</td>\n",
       "      <td>(2.2469,48.90472)</td>\n",
       "      <td>bisexual</td>\n",
       "      <td>http://i.imgur.com/eBzb69S.jpg</td>\n",
       "      <td>henriette17</td>\n",
       "      <td>True</td>\n",
       "      <td>1993-01-16 05:17:38+0200</td>\n",
       "      <td>2019-05-09 03:15:02+0200</td>\n",
       "    </tr>\n",
       "    <tr>\n",
       "      <th>3</th>\n",
       "      <td>Construire verser indiquer attitude sommet pai...</td>\n",
       "      <td>lucasmargaret@dbmail.com</td>\n",
       "      <td>Paul</td>\n",
       "      <td>male</td>\n",
       "      <td>$2a$10$bPpp92tEaeb7a47YbXKwJueHBDOeLQOLZNRNe/Q...</td>\n",
       "      <td>Launay</td>\n",
       "      <td>1</td>\n",
       "      <td>40</td>\n",
       "      <td>(5.4384,43.2907)</td>\n",
       "      <td>heterosexual</td>\n",
       "      <td>http://i.imgur.com/J8B8f.jpg</td>\n",
       "      <td>zacharie97</td>\n",
       "      <td>True</td>\n",
       "      <td>1997-05-19 05:17:38+0200</td>\n",
       "      <td>2019-05-09 03:03:02+0200</td>\n",
       "    </tr>\n",
       "    <tr>\n",
       "      <th>4</th>\n",
       "      <td>Monde minute cela marche. Finir pendre parole ...</td>\n",
       "      <td>diane97@yahoo.fr</td>\n",
       "      <td>David-Bernard</td>\n",
       "      <td>male</td>\n",
       "      <td>$2a$10$bPpp92tEaeb7a47YbXKwJueHBDOeLQOLZNRNe/Q...</td>\n",
       "      <td>Chauvin</td>\n",
       "      <td>1</td>\n",
       "      <td>20</td>\n",
       "      <td>(4.7934,45.69558)</td>\n",
       "      <td>homosexual</td>\n",
       "      <td>http://25.media.tumblr.com/tumblr_mc3c1x4kXV1r...</td>\n",
       "      <td>xpascal</td>\n",
       "      <td>True</td>\n",
       "      <td>1990-10-15 05:17:38+0200</td>\n",
       "      <td>2019-05-09 03:49:10+0200</td>\n",
       "    </tr>\n",
       "  </tbody>\n",
       "</table>\n",
       "</div>"
      ],
      "text/plain": [
       "                                                 bio  \\\n",
       "0  Travers long arrêter trésor.\\nPont ennemi mais...   \n",
       "1  Personne gens lui ministre. Produire mort musi...   \n",
       "2  Facile miser lever. Enfin perdre machine siège...   \n",
       "3  Construire verser indiquer attitude sommet pai...   \n",
       "4  Monde minute cela marche. Finir pendre parole ...   \n",
       "\n",
       "                       email      firstname  gender  \\\n",
       "0  besnardraymond@tiscali.fr          Denis    male   \n",
       "1            marthe66@sfr.fr         Martin    male   \n",
       "2            agodard@noos.fr         Margot  female   \n",
       "3   lucasmargaret@dbmail.com           Paul    male   \n",
       "4           diane97@yahoo.fr  David-Bernard    male   \n",
       "\n",
       "                                     hashed_password lastname  num_pics  \\\n",
       "0  $2a$10$bPpp92tEaeb7a47YbXKwJueHBDOeLQOLZNRNe/Q...  Michaud         1   \n",
       "1  $2a$10$bPpp92tEaeb7a47YbXKwJueHBDOeLQOLZNRNe/Q...  Chauvet         1   \n",
       "2  $2a$10$bPpp92tEaeb7a47YbXKwJueHBDOeLQOLZNRNe/Q...  Pereira         1   \n",
       "3  $2a$10$bPpp92tEaeb7a47YbXKwJueHBDOeLQOLZNRNe/Q...   Launay         1   \n",
       "4  $2a$10$bPpp92tEaeb7a47YbXKwJueHBDOeLQOLZNRNe/Q...  Chauvin         1   \n",
       "\n",
       "   popularity_score            position sexual_orientation  \\\n",
       "0                60   (4.7934,45.69558)         homosexual   \n",
       "1                28  (1.33467,43.61058)       heterosexual   \n",
       "2                94   (2.2469,48.90472)           bisexual   \n",
       "3                40    (5.4384,43.2907)       heterosexual   \n",
       "4                20   (4.7934,45.69558)         homosexual   \n",
       "\n",
       "                                              url_pp        username  \\\n",
       "0  https://66.media.tumblr.com/15fe3cfc35c276b302...     gabrielle46   \n",
       "1                       http://i.imgur.com/jgjcv.jpg  alainrodrigues   \n",
       "2                     http://i.imgur.com/eBzb69S.jpg     henriette17   \n",
       "3                       http://i.imgur.com/J8B8f.jpg      zacharie97   \n",
       "4  http://25.media.tumblr.com/tumblr_mc3c1x4kXV1r...         xpascal   \n",
       "\n",
       "   verified             date_of_birth                 last_seen  \n",
       "0      True  1992-09-07 05:17:38+0200  2019-05-09 02:43:45+0200  \n",
       "1      True  1996-12-09 05:17:38+0200  2019-05-09 04:00:52+0200  \n",
       "2      True  1993-01-16 05:17:38+0200  2019-05-09 03:15:02+0200  \n",
       "3      True  1997-05-19 05:17:38+0200  2019-05-09 03:03:02+0200  \n",
       "4      True  1990-10-15 05:17:38+0200  2019-05-09 03:49:10+0200  "
      ]
     },
     "execution_count": 30,
     "metadata": {},
     "output_type": "execute_result"
    }
   ],
   "source": [
    "df.head()"
   ]
  },
  {
   "cell_type": "code",
   "execution_count": 31,
   "metadata": {},
   "outputs": [],
   "source": [
    "df.to_csv(\"../db/fake_profiles.csv\", sep = ';', index_label = 'id')"
   ]
  },
  {
   "cell_type": "code",
   "execution_count": null,
   "metadata": {},
   "outputs": [],
   "source": []
  }
 ],
 "metadata": {
  "kernelspec": {
   "display_name": "Python 3",
   "language": "python",
   "name": "python3"
  },
  "language_info": {
   "codemirror_mode": {
    "name": "ipython",
    "version": 3
   },
   "file_extension": ".py",
   "mimetype": "text/x-python",
   "name": "python",
   "nbconvert_exporter": "python",
   "pygments_lexer": "ipython3",
   "version": "3.6.7"
  }
 },
 "nbformat": 4,
 "nbformat_minor": 2
}
