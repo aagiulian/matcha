{
 "cells": [
  {
   "cell_type": "code",
   "execution_count": 1,
   "metadata": {},
   "outputs": [],
   "source": [
    "#from shapely.geometry import Point\n",
    "from functools import reduce\n",
    "from faker import Faker\n",
    "from tqdm import tqdm\n",
    "import numpy as np\n",
    "import pandas as pd\n",
    "import matplotlib.pyplot as plt\n",
    "import seaborn as sns\n",
    "#import geopandas as gpd\n",
    "import datetime\n",
    "import random\n",
    "import pprint\n",
    "import bcrypt\n",
    "import click\n",
    "import time\n",
    "import json\n",
    "import pytz\n",
    "%matplotlib inline\n",
    "\n",
    "pp = pprint.PrettyPrinter(indent=2)"
   ]
  },
  {
   "cell_type": "code",
   "execution_count": 2,
   "metadata": {},
   "outputs": [],
   "source": [
    "def sort_subreddits(filename, sort_with):\n",
    "    profile_pics = {}\n",
    "    with open(filename, 'r') as subreddit_file:\n",
    "        subs = json.load(subreddit_file)\n",
    "        for k,v in sort_with.items():\n",
    "            profile_pics[k] = reduce(lambda x,y: list(set(x + subs[y])), v, [])\n",
    "    return profile_pics\n",
    "\n",
    "def sexual_orientation():\n",
    "    orientation = [\n",
    "        'heterosexual',\n",
    "        'homosexual',\n",
    "        'bisexual']\n",
    "    return np.random.choice(orientation, p=[0.6, 0.2, 0.2])\n",
    "\n",
    "\n",
    "looking_for = {\n",
    "    \"male\": {\n",
    "        \"heterosexual\": \"{female}\",\n",
    "        \"homosexual\": \"{male}\",\n",
    "        \"bisexual\": \"{male,female}\",\n",
    "    },\n",
    "    \"female\": {\n",
    "        \"heterosexual\": \"{male}\",\n",
    "        \"homosexual\": \"{female}\",\n",
    "        \"bisexual\": \"{male,female}\",\n",
    "    }\n",
    "} "
   ]
  },
  {
   "cell_type": "code",
   "execution_count": 3,
   "metadata": {},
   "outputs": [],
   "source": [
    "def profile_pic_generator():\n",
    "    subreddit_genders = {\n",
    "        'male': ['ladyboners', 'hotguys'],\n",
    "        'female': ['prettygirls', 'beautifulfemales']\n",
    "    }\n",
    "    profile_pics = sort_subreddits('./ladyboners_hotguys_prettygirls_beautifulfemales.json', subreddit_genders)\n",
    "    length = {'male': len(profile_pics['male']),\n",
    "              'female': len(profile_pics['female'])}\n",
    "    counter = {'male': 0,\n",
    "               'female': 0}\n",
    "    def next_profile_pic(gender):\n",
    "        if gender not in ['male', 'female']:\n",
    "            return ''\n",
    "        picture_url = profile_pics[gender][counter[gender] % length[gender]]\n",
    "        counter[gender] += 1\n",
    "        return picture_url\n",
    "    return next_profile_pic"
   ]
  },
  {
   "cell_type": "code",
   "execution_count": 4,
   "metadata": {},
   "outputs": [],
   "source": [
    "def generate_age_distribution(min_age = 18, max_age = 77, size = 1000):\n",
    "    ages = 13 + 12 * np.random.lognormal(0, 0.42, size = size)\n",
    "    return np.clip(ages, min_age, max_age)\n",
    "\n",
    "def plot_distribution(dist):\n",
    "    print(\"min:\", min(dist))\n",
    "    print(\"max:\", max(dist))\n",
    "    num_bins = 2 * int(max(dist) - min(dist))\n",
    "    plt.hist(dist, bins = num_bins if num_bins < 420 else 420)\n",
    "    plt.show()"
   ]
  },
  {
   "cell_type": "code",
   "execution_count": 5,
   "metadata": {},
   "outputs": [
    {
     "name": "stdout",
     "output_type": "stream",
     "text": [
      "min: 18.0\n",
      "max: 51.41770057122321\n"
     ]
    },
    {
     "data": {
      "image/png": "[encoded data removed]",
      "text/plain": [
       "<Figure size 432x288 with 1 Axes>"
      ]
     },
     "metadata": {
      "needs_background": "light"
     },
     "output_type": "display_data"
    }
   ],
   "source": [
    "ages = generate_age_distribution()\n",
    "plot_distribution(ages)"
   ]
  },
  {
   "cell_type": "code",
   "execution_count": 6,
   "metadata": {},
   "outputs": [],
   "source": [
    "def generate_date_of_birth(min_age = 18, max_age = 77, size = 1000):\n",
    "    tz = pytz.timezone('Europe/Paris')\n",
    "    ages = generate_age_distribution(min_age, max_age, size)\n",
    "    now = datetime.datetime.now(tz)\n",
    "    dob = [(now - datetime.timedelta(days = int(366 * age))).strftime(format=\"%Y-%m-%d %H:%M:%S%z\") for age in ages]\n",
    "    return dob"
   ]
  },
  {
   "cell_type": "code",
   "execution_count": 7,
   "metadata": {},
   "outputs": [
    {
     "name": "stdout",
     "output_type": "stream",
     "text": [
      "['1995-03-19 23:16:18+0200', '1989-02-16 23:16:18+0200', '1998-05-02 23:16:18+0200', '2000-05-17 23:16:18+0200', '1993-09-28 23:16:18+0200', '1997-11-29 23:16:18+0200', '1995-08-09 23:16:18+0200', '1988-07-06 23:16:18+0200', '1993-10-30 23:16:18+0200', '1996-03-08 23:16:18+0200']\n"
     ]
    }
   ],
   "source": [
    "dob = generate_date_of_birth(size=10)\n",
    "print(dob)"
   ]
  },
  {
   "cell_type": "code",
   "execution_count": 8,
   "metadata": {},
   "outputs": [
    {
     "name": "stdout",
     "output_type": "stream",
     "text": [
      "min: 2.192666973919595\n",
      "max: 6132.5168263212145\n"
     ]
    },
    {
     "data": {
      "image/png": "[encoded data removed]",
      "text/plain": [
       "<Figure size 432x288 with 1 Axes>"
      ]
     },
     "metadata": {
      "needs_background": "light"
     },
     "output_type": "display_data"
    }
   ],
   "source": [
    "def generate_minutes_distribution(size = 1000):\n",
    "    minutes = 100 * np.random.lognormal(0, 1.2, size = size)\n",
    "    return minutes\n",
    "\n",
    "plot_distribution(generate_minutes_distribution())"
   ]
  },
  {
   "cell_type": "code",
   "execution_count": 9,
   "metadata": {},
   "outputs": [],
   "source": [
    "def generate_last_seen(size = 1000):\n",
    "    tz = pytz.timezone('Europe/Paris')\n",
    "    minutes = generate_minutes_distribution(size = size)\n",
    "    now = datetime.datetime.now(tz)\n",
    "    last_seen = [(now - datetime.timedelta(seconds = int(60 * minute))).strftime(format=\"%Y-%m-%d %H:%M:%S%z\") for minute in minutes]\n",
    "    return last_seen"
   ]
  },
  {
   "cell_type": "code",
   "execution_count": null,
   "metadata": {},
   "outputs": [],
   "source": []
  },
  {
   "cell_type": "code",
   "execution_count": 10,
   "metadata": {},
   "outputs": [],
   "source": [
    "def generate_fake_profiles(size = 1000):\n",
    "    start = time.time()\n",
    "    fake = Faker('fr_FR')\n",
    "    next_profile_pic = profile_pic_generator()\n",
    "    hashed_password = bcrypt.hashpw(\"auie\", bcrypt.gensalt(10))\n",
    "    profiles = []\n",
    "    \n",
    "    for _ in tqdm(range(size)):\n",
    "        profile = fake.profile()\n",
    "        profile['hashed_password'] = hashed_password\n",
    "        name = profile['name'].split(' ')\n",
    "        profile['firstname'] = name[0]\n",
    "        profile['lastname'] = ' '.join(name[1:])\n",
    "        profile['gender'] = 'male' if profile['sex'] == 'M' else 'female'\n",
    "        profile['sexual_orientation'] = sexual_orientation()\n",
    "        profile['lookingfor'] = looking_for[profile['gender']][profile['sexual_orientation']]\n",
    "        profile['bio'] = fake.text(max_nb_chars = 200)\n",
    "        profile['num_pics'] = 1\n",
    "        profile['url_pp'] = next_profile_pic(profile['gender'])\n",
    "        profile['email'] = profile['mail']\n",
    "        lon, lat = fake.local_latlng(country_code=\"FR\", coords_only=True)\n",
    "        profile['position'] =  '(' + lat + ',' + lon + ')'\n",
    "        profile['popularity_score'] = random.randrange(100)\n",
    "        profile['verified'] = True\n",
    "        profile.pop('mail')\n",
    "        profile.pop('birthdate')\n",
    "        profile.pop('blood_group')\n",
    "        profile.pop('address')\n",
    "        profile.pop('company')\n",
    "        profile.pop('job')\n",
    "        profile.pop('name')\n",
    "        profile.pop('residence')\n",
    "        profile.pop('sex')\n",
    "        profile.pop('ssn')\n",
    "        profile.pop('website')\n",
    "        profile.pop('current_location')\n",
    "        profiles.append(profile)\n",
    "        \n",
    "    df = pd.DataFrame(profiles)\n",
    "    df['date_of_birth'] = generate_date_of_birth(min_age = 18, max_age = 77, size = size)\n",
    "    df['last_seen'] = generate_last_seen(size = size)\n",
    "    original_length = len(df)\n",
    "    df = df.drop_duplicates('username')\n",
    "    df = df.drop_duplicates('email')\n",
    "    num_duplicated = original_length - len(df)\n",
    "    if (num_duplicated):\n",
    "        print(\"dropped {} row(s) (duplicated email or username)\".format(num_duplicated))\n",
    "    return df\n"
   ]
  },
  {
   "cell_type": "code",
   "execution_count": 11,
   "metadata": {},
   "outputs": [
    {
     "name": "stderr",
     "output_type": "stream",
     "text": [
      "100%|██████████| 1000/1000 [00:04<00:00, 224.05it/s]"
     ]
    },
    {
     "name": "stdout",
     "output_type": "stream",
     "text": [
      "dropped 5 row(s) (duplicated email or username)\n"
     ]
    },
    {
     "name": "stderr",
     "output_type": "stream",
     "text": [
      "\n"
     ]
    }
   ],
   "source": [
    "df = generate_fake_profiles(size = 1000)"
   ]
  },
  {
   "cell_type": "code",
   "execution_count": 12,
   "metadata": {},
   "outputs": [
    {
     "data": {
      "text/html": [
       "<div>\n",
       "<style scoped>\n",
       "    .dataframe tbody tr th:only-of-type {\n",
       "        vertical-align: middle;\n",
       "    }\n",
       "\n",
       "    .dataframe tbody tr th {\n",
       "        vertical-align: top;\n",
       "    }\n",
       "\n",
       "    .dataframe thead th {\n",
       "        text-align: right;\n",
       "    }\n",
       "</style>\n",
       "<table border=\"1\" class=\"dataframe\">\n",
       "  <thead>\n",
       "    <tr style=\"text-align: right;\">\n",
       "      <th></th>\n",
       "      <th>bio</th>\n",
       "      <th>email</th>\n",
       "      <th>firstname</th>\n",
       "      <th>gender</th>\n",
       "      <th>hashed_password</th>\n",
       "      <th>lastname</th>\n",
       "      <th>lookingfor</th>\n",
       "      <th>num_pics</th>\n",
       "      <th>popularity_score</th>\n",
       "      <th>position</th>\n",
       "      <th>sexual_orientation</th>\n",
       "      <th>url_pp</th>\n",
       "      <th>username</th>\n",
       "      <th>verified</th>\n",
       "      <th>date_of_birth</th>\n",
       "      <th>last_seen</th>\n",
       "    </tr>\n",
       "  </thead>\n",
       "  <tbody>\n",
       "    <tr>\n",
       "      <th>0</th>\n",
       "      <td>Appartenir sauter aile.\\nApercevoir ce revoir ...</td>\n",
       "      <td>egarnier@tiscali.fr</td>\n",
       "      <td>Christophe</td>\n",
       "      <td>male</td>\n",
       "      <td>$2a$10$j4Zih8iGKEa2h5MN2kD2iOjb7gpDEZoyvwVHIuT...</td>\n",
       "      <td>Meunier</td>\n",
       "      <td>{male,female}</td>\n",
       "      <td>1</td>\n",
       "      <td>43</td>\n",
       "      <td>(1.6,43.11667)</td>\n",
       "      <td>bisexual</td>\n",
       "      <td>http://i.imgur.com/kvKGzPC.jpg</td>\n",
       "      <td>adriennemallet</td>\n",
       "      <td>True</td>\n",
       "      <td>1992-03-07 23:16:28+0200</td>\n",
       "      <td>2019-05-10 21:21:30+0200</td>\n",
       "    </tr>\n",
       "    <tr>\n",
       "      <th>1</th>\n",
       "      <td>Boire rire ni conduire. Assurer histoire trou ...</td>\n",
       "      <td>qfaivre@sfr.fr</td>\n",
       "      <td>David</td>\n",
       "      <td>male</td>\n",
       "      <td>$2a$10$j4Zih8iGKEa2h5MN2kD2iOjb7gpDEZoyvwVHIuT...</td>\n",
       "      <td>Lecoq</td>\n",
       "      <td>{female}</td>\n",
       "      <td>1</td>\n",
       "      <td>70</td>\n",
       "      <td>(4.7934,45.69558)</td>\n",
       "      <td>heterosexual</td>\n",
       "      <td>https://78.media.tumblr.com/6334e671bca74d462d...</td>\n",
       "      <td>ulombard</td>\n",
       "      <td>True</td>\n",
       "      <td>1997-06-09 23:16:28+0200</td>\n",
       "      <td>2019-05-10 20:43:01+0200</td>\n",
       "    </tr>\n",
       "    <tr>\n",
       "      <th>2</th>\n",
       "      <td>Là ensemble village tendre par chien haine cha...</td>\n",
       "      <td>celine59@dbmail.com</td>\n",
       "      <td>Constance</td>\n",
       "      <td>female</td>\n",
       "      <td>$2a$10$j4Zih8iGKEa2h5MN2kD2iOjb7gpDEZoyvwVHIuT...</td>\n",
       "      <td>Laurent</td>\n",
       "      <td>{male,female}</td>\n",
       "      <td>1</td>\n",
       "      <td>2</td>\n",
       "      <td>(5.16108,48.77275)</td>\n",
       "      <td>bisexual</td>\n",
       "      <td>https://i.imgur.com/x8ptwoP.jpg</td>\n",
       "      <td>chartiermarianne</td>\n",
       "      <td>True</td>\n",
       "      <td>1996-01-26 23:16:28+0200</td>\n",
       "      <td>2019-05-10 22:31:10+0200</td>\n",
       "    </tr>\n",
       "    <tr>\n",
       "      <th>3</th>\n",
       "      <td>Idée joue devoir environ caresser sauter. Selo...</td>\n",
       "      <td>fabremargaux@yahoo.fr</td>\n",
       "      <td>Anouk</td>\n",
       "      <td>female</td>\n",
       "      <td>$2a$10$j4Zih8iGKEa2h5MN2kD2iOjb7gpDEZoyvwVHIuT...</td>\n",
       "      <td>Guyot</td>\n",
       "      <td>{female}</td>\n",
       "      <td>1</td>\n",
       "      <td>3</td>\n",
       "      <td>(5.4384,43.2907)</td>\n",
       "      <td>homosexual</td>\n",
       "      <td>https://i.imgur.com/QlvCQhW.jpg</td>\n",
       "      <td>zacharie82</td>\n",
       "      <td>True</td>\n",
       "      <td>1989-05-26 23:16:28+0200</td>\n",
       "      <td>2019-05-10 22:49:27+0200</td>\n",
       "    </tr>\n",
       "    <tr>\n",
       "      <th>4</th>\n",
       "      <td>Importance champ beau sans toute libre certain...</td>\n",
       "      <td>zdavid@free.fr</td>\n",
       "      <td>Charlotte-Mathilde</td>\n",
       "      <td>female</td>\n",
       "      <td>$2a$10$j4Zih8iGKEa2h5MN2kD2iOjb7gpDEZoyvwVHIuT...</td>\n",
       "      <td>Chauvet</td>\n",
       "      <td>{male}</td>\n",
       "      <td>1</td>\n",
       "      <td>88</td>\n",
       "      <td>(2.08333,48.86667)</td>\n",
       "      <td>heterosexual</td>\n",
       "      <td>https://i.imgur.com/MArSEUk.jpg</td>\n",
       "      <td>franck30</td>\n",
       "      <td>True</td>\n",
       "      <td>1999-12-05 23:16:28+0200</td>\n",
       "      <td>2019-05-10 22:34:57+0200</td>\n",
       "    </tr>\n",
       "  </tbody>\n",
       "</table>\n",
       "</div>"
      ],
      "text/plain": [
       "                                                 bio                  email  \\\n",
       "0  Appartenir sauter aile.\\nApercevoir ce revoir ...    egarnier@tiscali.fr   \n",
       "1  Boire rire ni conduire. Assurer histoire trou ...         qfaivre@sfr.fr   \n",
       "2  Là ensemble village tendre par chien haine cha...    celine59@dbmail.com   \n",
       "3  Idée joue devoir environ caresser sauter. Selo...  fabremargaux@yahoo.fr   \n",
       "4  Importance champ beau sans toute libre certain...         zdavid@free.fr   \n",
       "\n",
       "            firstname  gender  \\\n",
       "0          Christophe    male   \n",
       "1               David    male   \n",
       "2           Constance  female   \n",
       "3               Anouk  female   \n",
       "4  Charlotte-Mathilde  female   \n",
       "\n",
       "                                     hashed_password lastname     lookingfor  \\\n",
       "0  $2a$10$j4Zih8iGKEa2h5MN2kD2iOjb7gpDEZoyvwVHIuT...  Meunier  {male,female}   \n",
       "1  $2a$10$j4Zih8iGKEa2h5MN2kD2iOjb7gpDEZoyvwVHIuT...    Lecoq       {female}   \n",
       "2  $2a$10$j4Zih8iGKEa2h5MN2kD2iOjb7gpDEZoyvwVHIuT...  Laurent  {male,female}   \n",
       "3  $2a$10$j4Zih8iGKEa2h5MN2kD2iOjb7gpDEZoyvwVHIuT...    Guyot       {female}   \n",
       "4  $2a$10$j4Zih8iGKEa2h5MN2kD2iOjb7gpDEZoyvwVHIuT...  Chauvet         {male}   \n",
       "\n",
       "   num_pics  popularity_score            position sexual_orientation  \\\n",
       "0         1                43      (1.6,43.11667)           bisexual   \n",
       "1         1                70   (4.7934,45.69558)       heterosexual   \n",
       "2         1                 2  (5.16108,48.77275)           bisexual   \n",
       "3         1                 3    (5.4384,43.2907)         homosexual   \n",
       "4         1                88  (2.08333,48.86667)       heterosexual   \n",
       "\n",
       "                                              url_pp          username  \\\n",
       "0                     http://i.imgur.com/kvKGzPC.jpg    adriennemallet   \n",
       "1  https://78.media.tumblr.com/6334e671bca74d462d...          ulombard   \n",
       "2                    https://i.imgur.com/x8ptwoP.jpg  chartiermarianne   \n",
       "3                    https://i.imgur.com/QlvCQhW.jpg        zacharie82   \n",
       "4                    https://i.imgur.com/MArSEUk.jpg          franck30   \n",
       "\n",
       "   verified             date_of_birth                 last_seen  \n",
       "0      True  1992-03-07 23:16:28+0200  2019-05-10 21:21:30+0200  \n",
       "1      True  1997-06-09 23:16:28+0200  2019-05-10 20:43:01+0200  \n",
       "2      True  1996-01-26 23:16:28+0200  2019-05-10 22:31:10+0200  \n",
       "3      True  1989-05-26 23:16:28+0200  2019-05-10 22:49:27+0200  \n",
       "4      True  1999-12-05 23:16:28+0200  2019-05-10 22:34:57+0200  "
      ]
     },
     "execution_count": 12,
     "metadata": {},
     "output_type": "execute_result"
    }
   ],
   "source": [
    "df.head()"
   ]
  },
  {
   "cell_type": "code",
   "execution_count": 13,
   "metadata": {},
   "outputs": [],
   "source": [
    "df.to_csv(\"../db/fake_profiles.csv\", sep = ';', index_label = 'id')"
   ]
  },
  {
   "cell_type": "code",
   "execution_count": null,
   "metadata": {},
   "outputs": [],
   "source": []
  }
 ],
 "metadata": {
  "kernelspec": {
   "display_name": "Python 3",
   "language": "python",
   "name": "python3"
  },
  "language_info": {
   "codemirror_mode": {
    "name": "ipython",
    "version": 3
   },
   "file_extension": ".py",
   "mimetype": "text/x-python",
   "name": "python",
   "nbconvert_exporter": "python",
   "pygments_lexer": "ipython3",
   "version": "3.6.7"
  }
 },
 "nbformat": 4,
 "nbformat_minor": 2
}
