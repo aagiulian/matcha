{
 "cells": [
  {
   "cell_type": "code",
   "execution_count": 1,
   "metadata": {},
   "outputs": [],
   "source": [
    "#from shapely.geometry import Point\n",
    "from functools import reduce\n",
    "from faker import Faker\n",
    "from tqdm import tqdm\n",
    "import numpy as np\n",
    "import pandas as pd\n",
    "import matplotlib.pyplot as plt\n",
    "import seaborn as sns\n",
    "#import geopandas as gpd\n",
    "import datetime\n",
    "import random\n",
    "import pprint\n",
    "import bcrypt\n",
    "#import click\n",
    "import time\n",
    "import json\n",
    "import pytz\n",
    "%matplotlib inline\n",
    "\n",
    "pp = pprint.PrettyPrinter(indent=2)"
   ]
  },
  {
   "cell_type": "code",
   "execution_count": 2,
   "metadata": {},
   "outputs": [],
   "source": [
    "def sort_subreddits(filename, sort_with):\n",
    "    profile_pics = {}\n",
    "    with open(filename, 'r') as subreddit_file:\n",
    "        subs = json.load(subreddit_file)\n",
    "        for k,v in sort_with.items():\n",
    "            profile_pics[k] = reduce(lambda x,y: list(set(x + subs[y])), v, [])\n",
    "    return profile_pics\n",
    "\n",
    "def sexual_orientation():\n",
    "    orientation = [\n",
    "        'heterosexual',\n",
    "        'homosexual',\n",
    "        'bisexual']\n",
    "    return np.random.choice(orientation, p=[0.6, 0.2, 0.2])\n",
    "\n",
    "\n",
    "looking_for = {\n",
    "    \"male\": {\n",
    "        \"heterosexual\": \"{female}\",\n",
    "        \"homosexual\": \"{male}\",\n",
    "        \"bisexual\": \"{male,female}\",\n",
    "    },\n",
    "    \"female\": {\n",
    "        \"heterosexual\": \"{male}\",\n",
    "        \"homosexual\": \"{female}\",\n",
    "        \"bisexual\": \"{male,female}\",\n",
    "    }\n",
    "} "
   ]
  },
  {
   "cell_type": "code",
   "execution_count": 3,
   "metadata": {},
   "outputs": [],
   "source": [
    "def profile_pic_generator():\n",
    "    subreddit_genders = {\n",
    "        'female': ['catpictures', 'blep'],\n",
    "        'male': ['dogpictures', 'blop']\n",
    "    }\n",
    "    profile_pics = sort_subreddits('./blep_catpictures_blop_dogpictures.json', subreddit_genders)\n",
    "    length = {'male': len(profile_pics['male']),\n",
    "              'female': len(profile_pics['female'])}\n",
    "    counter = {'male': 0,\n",
    "               'female': 0}\n",
    "    def next_profile_pic(gender):\n",
    "        if gender not in ['male', 'female']:\n",
    "            return ''\n",
    "        picture_url = profile_pics[gender][counter[gender] % length[gender]]\n",
    "        counter[gender] += 1\n",
    "        return picture_url\n",
    "    return next_profile_pic"
   ]
  },
  {
   "cell_type": "code",
   "execution_count": 4,
   "metadata": {},
   "outputs": [],
   "source": [
    "def generate_age_distribution(min_age = 18, max_age = 77, size = 1000):\n",
    "    ages = 13 + 12 * np.random.lognormal(0, 0.42, size = size)\n",
    "    return np.clip(ages, min_age, max_age)\n",
    "\n",
    "def plot_distribution(dist):\n",
    "    print(\"min:\", min(dist))\n",
    "    print(\"max:\", max(dist))\n",
    "    num_bins = 2 * int(max(dist) - min(dist))\n",
    "    plt.hist(dist, bins = num_bins if num_bins < 420 else 420)\n",
    "    plt.show()"
   ]
  },
  {
   "cell_type": "code",
   "execution_count": 5,
   "metadata": {},
   "outputs": [
    {
     "name": "stdout",
     "output_type": "stream",
     "text": [
      "min: 18.0\n",
      "max: 56.135786501097975\n"
     ]
    },
    {
     "data": {
      "image/png": "[encoded data removed]",
      "text/plain": [
       "<Figure size 432x288 with 1 Axes>"
      ]
     },
     "metadata": {
      "needs_background": "light"
     },
     "output_type": "display_data"
    }
   ],
   "source": [
    "ages = generate_age_distribution()\n",
    "plot_distribution(ages)"
   ]
  },
  {
   "cell_type": "code",
   "execution_count": 6,
   "metadata": {},
   "outputs": [],
   "source": [
    "def generate_date_of_birth(min_age = 18, max_age = 77, size = 1000):\n",
    "    tz = pytz.timezone('Europe/Paris')\n",
    "    ages = generate_age_distribution(min_age, max_age, size)\n",
    "    now = datetime.datetime.now(tz)\n",
    "    dob = [(now - datetime.timedelta(days = int(366 * age))).strftime(format=\"%Y-%m-%d %H:%M:%S%z\") for age in ages]\n",
    "    return dob"
   ]
  },
  {
   "cell_type": "code",
   "execution_count": 7,
   "metadata": {},
   "outputs": [
    {
     "name": "stdout",
     "output_type": "stream",
     "text": [
      "['1999-09-28 14:57:14+0200', '1978-07-06 14:57:14+0200', '1995-01-02 14:57:14+0200', '1998-07-01 14:57:14+0200', '1992-09-12 14:57:14+0200', '1998-02-01 14:57:14+0200', '2000-02-11 14:57:14+0200', '1983-12-29 14:57:14+0200', '1990-06-28 14:57:14+0200', '1991-12-16 14:57:14+0200']\n"
     ]
    }
   ],
   "source": [
    "dob = generate_date_of_birth(size=10)\n",
    "print(dob)"
   ]
  },
  {
   "cell_type": "code",
   "execution_count": 8,
   "metadata": {},
   "outputs": [
    {
     "name": "stdout",
     "output_type": "stream",
     "text": [
      "min: 0.9755586886135595\n",
      "max: 6535.2130140067475\n"
     ]
    },
    {
     "data": {
      "image/png": "[encoded data removed]",
      "text/plain": [
       "<Figure size 432x288 with 1 Axes>"
      ]
     },
     "metadata": {
      "needs_background": "light"
     },
     "output_type": "display_data"
    }
   ],
   "source": [
    "def generate_minutes_distribution(size = 1000):\n",
    "    minutes = 100 * np.random.lognormal(0, 1.2, size = size)\n",
    "    return minutes\n",
    "\n",
    "plot_distribution(generate_minutes_distribution())"
   ]
  },
  {
   "cell_type": "code",
   "execution_count": 9,
   "metadata": {},
   "outputs": [],
   "source": [
    "def generate_last_seen(size = 1000):\n",
    "    tz = pytz.timezone('Europe/Paris')\n",
    "    minutes = generate_minutes_distribution(size = size)\n",
    "    now = datetime.datetime.now(tz)\n",
    "    last_seen = [(now - datetime.timedelta(seconds = int(60 * minute))).strftime(format=\"%Y-%m-%d %H:%M:%S%z\") for minute in minutes]\n",
    "    return last_seen"
   ]
  },
  {
   "cell_type": "code",
   "execution_count": null,
   "metadata": {},
   "outputs": [],
   "source": []
  },
  {
   "cell_type": "code",
   "execution_count": 10,
   "metadata": {},
   "outputs": [],
   "source": [
    "def generate_fake_profiles(size = 1000):\n",
    "    start = time.time()\n",
    "    fake = Faker('fr_FR')\n",
    "    next_profile_pic = profile_pic_generator()\n",
    "    hashed_password = bcrypt.hashpw(\"auie\".encode('utf-8'), bcrypt.gensalt(10))\n",
    "    profiles = []\n",
    "    \n",
    "    for _ in tqdm(range(size)):\n",
    "        profile = fake.profile()\n",
    "        profile['hashed_password'] = hashed_password\n",
    "        name = profile['name'].split(' ')\n",
    "        profile['firstname'] = name[0]\n",
    "        profile['lastname'] = ' '.join(name[1:])\n",
    "        profile['gender'] = 'male' if profile['sex'] == 'M' else 'female'\n",
    "        profile['sexual_orientation'] = sexual_orientation()\n",
    "        profile['lookingfor'] = looking_for[profile['gender']][profile['sexual_orientation']]\n",
    "        profile['bio'] = fake.text(max_nb_chars = 200)\n",
    "        profile['num_pics'] = 1\n",
    "        profile['url_pp'] = next_profile_pic(profile['gender'])\n",
    "        profile['email'] = profile['mail']\n",
    "        lon, lat = fake.local_latlng(country_code=\"FR\", coords_only=True)\n",
    "        profile['location'] =  '(' + lat + ',' + lon + ')'\n",
    "        profile['popularity_score'] = random.randrange(100)\n",
    "        profile['verified'] = True\n",
    "        profile.pop('mail')\n",
    "        profile.pop('birthdate')\n",
    "        profile.pop('blood_group')\n",
    "        profile.pop('address')\n",
    "        profile.pop('company')\n",
    "        profile.pop('job')\n",
    "        profile.pop('name')\n",
    "        profile.pop('residence')\n",
    "        profile.pop('sex')\n",
    "        profile.pop('ssn')\n",
    "        profile.pop('website')\n",
    "        profile.pop('current_location')\n",
    "        profiles.append(profile)\n",
    "        \n",
    "    df = pd.DataFrame(profiles)\n",
    "    df['date_of_birth'] = generate_date_of_birth(min_age = 18, max_age = 77, size = size)\n",
    "    df['last_seen'] = generate_last_seen(size = size)\n",
    "    original_length = len(df)\n",
    "    df = df.drop_duplicates('username')\n",
    "    df = df.drop_duplicates('email')\n",
    "    num_duplicated = original_length - len(df)\n",
    "    if (num_duplicated):\n",
    "        print(\"dropped {} row(s) (duplicated email or username)\".format(num_duplicated))\n",
    "    return df\n"
   ]
  },
  {
   "cell_type": "code",
   "execution_count": 11,
   "metadata": {},
   "outputs": [
    {
     "name": "stderr",
     "output_type": "stream",
     "text": [
      "100%|██████████| 1000/1000 [00:04<00:00, 206.73it/s]"
     ]
    },
    {
     "name": "stdout",
     "output_type": "stream",
     "text": [
      "dropped 4 row(s) (duplicated email or username)\n"
     ]
    },
    {
     "name": "stderr",
     "output_type": "stream",
     "text": [
      "\n"
     ]
    }
   ],
   "source": [
    "df = generate_fake_profiles(size = 1000)"
   ]
  },
  {
   "cell_type": "code",
   "execution_count": 12,
   "metadata": {},
   "outputs": [
    {
     "data": {
      "text/html": [
       "<div>\n",
       "<style scoped>\n",
       "    .dataframe tbody tr th:only-of-type {\n",
       "        vertical-align: middle;\n",
       "    }\n",
       "\n",
       "    .dataframe tbody tr th {\n",
       "        vertical-align: top;\n",
       "    }\n",
       "\n",
       "    .dataframe thead th {\n",
       "        text-align: right;\n",
       "    }\n",
       "</style>\n",
       "<table border=\"1\" class=\"dataframe\">\n",
       "  <thead>\n",
       "    <tr style=\"text-align: right;\">\n",
       "      <th></th>\n",
       "      <th>bio</th>\n",
       "      <th>email</th>\n",
       "      <th>firstname</th>\n",
       "      <th>gender</th>\n",
       "      <th>hashed_password</th>\n",
       "      <th>lastname</th>\n",
       "      <th>location</th>\n",
       "      <th>lookingfor</th>\n",
       "      <th>num_pics</th>\n",
       "      <th>popularity_score</th>\n",
       "      <th>sexual_orientation</th>\n",
       "      <th>url_pp</th>\n",
       "      <th>username</th>\n",
       "      <th>verified</th>\n",
       "      <th>date_of_birth</th>\n",
       "      <th>last_seen</th>\n",
       "    </tr>\n",
       "  </thead>\n",
       "  <tbody>\n",
       "    <tr>\n",
       "      <th>0</th>\n",
       "      <td>Haute conclure inquiéter cerveau troubler. Min...</td>\n",
       "      <td>hernandezguy@dbmail.com</td>\n",
       "      <td>Nath-Susanne</td>\n",
       "      <td>female</td>\n",
       "      <td>$2a$10$XaalkWs9yN1SmGUtvY5jxugFZKaYsqPZXv/Yi/E...</td>\n",
       "      <td>Bernier</td>\n",
       "      <td>(1.00288,49.28669)</td>\n",
       "      <td>{male,female}</td>\n",
       "      <td>1</td>\n",
       "      <td>34</td>\n",
       "      <td>bisexual</td>\n",
       "      <td>https://i.imgur.com/r7KBvRO.jpg</td>\n",
       "      <td>alexandrebernard</td>\n",
       "      <td>True</td>\n",
       "      <td>1994-07-09 14:57:20+0200</td>\n",
       "      <td>2019-06-05 13:11:13+0200</td>\n",
       "    </tr>\n",
       "    <tr>\n",
       "      <th>1</th>\n",
       "      <td>Soir fils journée fine. Fête résister l'une de...</td>\n",
       "      <td>victoirechauveau@hotmail.fr</td>\n",
       "      <td>Émilie</td>\n",
       "      <td>female</td>\n",
       "      <td>$2a$10$XaalkWs9yN1SmGUtvY5jxugFZKaYsqPZXv/Yi/E...</td>\n",
       "      <td>Laurent</td>\n",
       "      <td>(5.16108,48.77275)</td>\n",
       "      <td>{male,female}</td>\n",
       "      <td>1</td>\n",
       "      <td>77</td>\n",
       "      <td>bisexual</td>\n",
       "      <td>https://i.imgur.com/yZuWiHh.jpg</td>\n",
       "      <td>fregnier</td>\n",
       "      <td>True</td>\n",
       "      <td>1997-03-12 14:57:20+0200</td>\n",
       "      <td>2019-06-05 14:26:14+0200</td>\n",
       "    </tr>\n",
       "    <tr>\n",
       "      <th>2</th>\n",
       "      <td>Grand quant à nourrir aller clair. Environ éco...</td>\n",
       "      <td>gregoireveronique@yahoo.fr</td>\n",
       "      <td>Frédéric</td>\n",
       "      <td>male</td>\n",
       "      <td>$2a$10$XaalkWs9yN1SmGUtvY5jxugFZKaYsqPZXv/Yi/E...</td>\n",
       "      <td>Legros</td>\n",
       "      <td>(5.4584,43.32393)</td>\n",
       "      <td>{female}</td>\n",
       "      <td>1</td>\n",
       "      <td>30</td>\n",
       "      <td>heterosexual</td>\n",
       "      <td>http://i.imgur.com/UuqYe85.jpg</td>\n",
       "      <td>galletantoinette</td>\n",
       "      <td>True</td>\n",
       "      <td>1996-08-29 14:57:20+0200</td>\n",
       "      <td>2019-06-05 13:25:04+0200</td>\n",
       "    </tr>\n",
       "    <tr>\n",
       "      <th>3</th>\n",
       "      <td>Aucun brûler absence peau envoyer blanc ville....</td>\n",
       "      <td>audrey88@noos.fr</td>\n",
       "      <td>Philippe</td>\n",
       "      <td>male</td>\n",
       "      <td>$2a$10$XaalkWs9yN1SmGUtvY5jxugFZKaYsqPZXv/Yi/E...</td>\n",
       "      <td>de Rocher</td>\n",
       "      <td>(2.2469,48.90472)</td>\n",
       "      <td>{male}</td>\n",
       "      <td>1</td>\n",
       "      <td>47</td>\n",
       "      <td>homosexual</td>\n",
       "      <td>https://i.imgur.com/6k4kWYk.jpg</td>\n",
       "      <td>mauricecharpentier</td>\n",
       "      <td>True</td>\n",
       "      <td>1996-01-04 14:57:20+0200</td>\n",
       "      <td>2019-06-05 13:30:53+0200</td>\n",
       "    </tr>\n",
       "    <tr>\n",
       "      <th>4</th>\n",
       "      <td>Fidèle pitié poitrine cacher soumettre. Détail...</td>\n",
       "      <td>bouchetstephane@ifrance.com</td>\n",
       "      <td>Martin</td>\n",
       "      <td>male</td>\n",
       "      <td>$2a$10$XaalkWs9yN1SmGUtvY5jxugFZKaYsqPZXv/Yi/E...</td>\n",
       "      <td>Deschamps</td>\n",
       "      <td>(1.6,43.11667)</td>\n",
       "      <td>{female}</td>\n",
       "      <td>1</td>\n",
       "      <td>86</td>\n",
       "      <td>heterosexual</td>\n",
       "      <td>https://i.imgur.com/d0FIClD.jpg</td>\n",
       "      <td>palexandre</td>\n",
       "      <td>True</td>\n",
       "      <td>1991-08-18 14:57:20+0200</td>\n",
       "      <td>2019-06-04 12:42:16+0200</td>\n",
       "    </tr>\n",
       "  </tbody>\n",
       "</table>\n",
       "</div>"
      ],
      "text/plain": [
       "                                                 bio  \\\n",
       "0  Haute conclure inquiéter cerveau troubler. Min...   \n",
       "1  Soir fils journée fine. Fête résister l'une de...   \n",
       "2  Grand quant à nourrir aller clair. Environ éco...   \n",
       "3  Aucun brûler absence peau envoyer blanc ville....   \n",
       "4  Fidèle pitié poitrine cacher soumettre. Détail...   \n",
       "\n",
       "                         email     firstname  gender  \\\n",
       "0      hernandezguy@dbmail.com  Nath-Susanne  female   \n",
       "1  victoirechauveau@hotmail.fr        Émilie  female   \n",
       "2   gregoireveronique@yahoo.fr      Frédéric    male   \n",
       "3             audrey88@noos.fr      Philippe    male   \n",
       "4  bouchetstephane@ifrance.com        Martin    male   \n",
       "\n",
       "                                     hashed_password   lastname  \\\n",
       "0  $2a$10$XaalkWs9yN1SmGUtvY5jxugFZKaYsqPZXv/Yi/E...    Bernier   \n",
       "1  $2a$10$XaalkWs9yN1SmGUtvY5jxugFZKaYsqPZXv/Yi/E...    Laurent   \n",
       "2  $2a$10$XaalkWs9yN1SmGUtvY5jxugFZKaYsqPZXv/Yi/E...     Legros   \n",
       "3  $2a$10$XaalkWs9yN1SmGUtvY5jxugFZKaYsqPZXv/Yi/E...  de Rocher   \n",
       "4  $2a$10$XaalkWs9yN1SmGUtvY5jxugFZKaYsqPZXv/Yi/E...  Deschamps   \n",
       "\n",
       "             location     lookingfor  num_pics  popularity_score  \\\n",
       "0  (1.00288,49.28669)  {male,female}         1                34   \n",
       "1  (5.16108,48.77275)  {male,female}         1                77   \n",
       "2   (5.4584,43.32393)       {female}         1                30   \n",
       "3   (2.2469,48.90472)         {male}         1                47   \n",
       "4      (1.6,43.11667)       {female}         1                86   \n",
       "\n",
       "  sexual_orientation                           url_pp            username  \\\n",
       "0           bisexual  https://i.imgur.com/r7KBvRO.jpg    alexandrebernard   \n",
       "1           bisexual  https://i.imgur.com/yZuWiHh.jpg            fregnier   \n",
       "2       heterosexual   http://i.imgur.com/UuqYe85.jpg    galletantoinette   \n",
       "3         homosexual  https://i.imgur.com/6k4kWYk.jpg  mauricecharpentier   \n",
       "4       heterosexual  https://i.imgur.com/d0FIClD.jpg          palexandre   \n",
       "\n",
       "   verified             date_of_birth                 last_seen  \n",
       "0      True  1994-07-09 14:57:20+0200  2019-06-05 13:11:13+0200  \n",
       "1      True  1997-03-12 14:57:20+0200  2019-06-05 14:26:14+0200  \n",
       "2      True  1996-08-29 14:57:20+0200  2019-06-05 13:25:04+0200  \n",
       "3      True  1996-01-04 14:57:20+0200  2019-06-05 13:30:53+0200  \n",
       "4      True  1991-08-18 14:57:20+0200  2019-06-04 12:42:16+0200  "
      ]
     },
     "execution_count": 12,
     "metadata": {},
     "output_type": "execute_result"
    }
   ],
   "source": [
    "df.head()"
   ]
  },
  {
   "cell_type": "code",
   "execution_count": 13,
   "metadata": {},
   "outputs": [],
   "source": [
    "#df.to_csv(\"../db/fake_profiles.csv\", sep = ';', index_label = 'id')\n",
    "df.to_csv(\"../db/fake_profiles.csv\", sep = ';', index = False)"
   ]
  },
  {
   "cell_type": "code",
   "execution_count": 14,
   "metadata": {},
   "outputs": [],
   "source": [
    "USER_MAX_HASHTAGS = 12\n",
    "\n",
    "def generate_hashtags(size = 1000, hashtag_filename = \"./hashtags.json\"):\n",
    "    users_hashtags = []\n",
    "    hashtags = []\n",
    "    with open(hashtag_filename) as hf:\n",
    "        hashtags = json.load(hf)[\"hashtags\"]\n",
    "    total_hashtags = len(hashtags)\n",
    "    for user_id in range(1, size + 1):\n",
    "        num_hashtags = random.randrange(USER_MAX_HASHTAGS)\n",
    "        for _ in range(num_hashtags):\n",
    "            user_hashtags = {}\n",
    "            user_hashtags[\"user_id\"] = user_id\n",
    "            user_hashtags[\"hashtag_name\"] = hashtags[random.randrange(total_hashtags)]\n",
    "            users_hashtags.append(user_hashtags)\n",
    "    df_hashtags = pd.DataFrame.from_dict({\"name\": hashtags})\n",
    "    df_users_hashtags = pd.DataFrame(users_hashtags)\n",
    "    return (df_hashtags, df_users_hashtags)"
   ]
  },
  {
   "cell_type": "code",
   "execution_count": 15,
   "metadata": {},
   "outputs": [],
   "source": [
    "(df_hashtags, df_users_hashtags) = generate_hashtags(len(df))"
   ]
  },
  {
   "cell_type": "code",
   "execution_count": 16,
   "metadata": {},
   "outputs": [
    {
     "data": {
      "text/html": [
       "<div>\n",
       "<style scoped>\n",
       "    .dataframe tbody tr th:only-of-type {\n",
       "        vertical-align: middle;\n",
       "    }\n",
       "\n",
       "    .dataframe tbody tr th {\n",
       "        vertical-align: top;\n",
       "    }\n",
       "\n",
       "    .dataframe thead th {\n",
       "        text-align: right;\n",
       "    }\n",
       "</style>\n",
       "<table border=\"1\" class=\"dataframe\">\n",
       "  <thead>\n",
       "    <tr style=\"text-align: right;\">\n",
       "      <th></th>\n",
       "      <th>name</th>\n",
       "    </tr>\n",
       "  </thead>\n",
       "  <tbody>\n",
       "    <tr>\n",
       "      <th>0</th>\n",
       "      <td>Aircraft Spotting</td>\n",
       "    </tr>\n",
       "    <tr>\n",
       "      <th>1</th>\n",
       "      <td>Airbrushing</td>\n",
       "    </tr>\n",
       "    <tr>\n",
       "      <th>2</th>\n",
       "      <td>Airsofting</td>\n",
       "    </tr>\n",
       "    <tr>\n",
       "      <th>3</th>\n",
       "      <td>Acting</td>\n",
       "    </tr>\n",
       "    <tr>\n",
       "      <th>4</th>\n",
       "      <td>Aeromodeling</td>\n",
       "    </tr>\n",
       "  </tbody>\n",
       "</table>\n",
       "</div>"
      ],
      "text/plain": [
       "                name\n",
       "0  Aircraft Spotting\n",
       "1        Airbrushing\n",
       "2         Airsofting\n",
       "3             Acting\n",
       "4       Aeromodeling"
      ]
     },
     "execution_count": 16,
     "metadata": {},
     "output_type": "execute_result"
    }
   ],
   "source": [
    "df_hashtags.head()"
   ]
  },
  {
   "cell_type": "code",
   "execution_count": 17,
   "metadata": {},
   "outputs": [
    {
     "data": {
      "text/html": [
       "<div>\n",
       "<style scoped>\n",
       "    .dataframe tbody tr th:only-of-type {\n",
       "        vertical-align: middle;\n",
       "    }\n",
       "\n",
       "    .dataframe tbody tr th {\n",
       "        vertical-align: top;\n",
       "    }\n",
       "\n",
       "    .dataframe thead th {\n",
       "        text-align: right;\n",
       "    }\n",
       "</style>\n",
       "<table border=\"1\" class=\"dataframe\">\n",
       "  <thead>\n",
       "    <tr style=\"text-align: right;\">\n",
       "      <th></th>\n",
       "      <th>hashtag_name</th>\n",
       "      <th>user_id</th>\n",
       "    </tr>\n",
       "  </thead>\n",
       "  <tbody>\n",
       "    <tr>\n",
       "      <th>0</th>\n",
       "      <td>Rockets</td>\n",
       "      <td>1</td>\n",
       "    </tr>\n",
       "    <tr>\n",
       "      <th>1</th>\n",
       "      <td>Protesting</td>\n",
       "      <td>1</td>\n",
       "    </tr>\n",
       "    <tr>\n",
       "      <th>2</th>\n",
       "      <td>Frisbee Golf – Frolf</td>\n",
       "      <td>1</td>\n",
       "    </tr>\n",
       "    <tr>\n",
       "      <th>3</th>\n",
       "      <td>Becoming A Child Advocate</td>\n",
       "      <td>1</td>\n",
       "    </tr>\n",
       "    <tr>\n",
       "      <th>4</th>\n",
       "      <td>Soccer</td>\n",
       "      <td>1</td>\n",
       "    </tr>\n",
       "  </tbody>\n",
       "</table>\n",
       "</div>"
      ],
      "text/plain": [
       "                hashtag_name  user_id\n",
       "0                    Rockets        1\n",
       "1                 Protesting        1\n",
       "2       Frisbee Golf – Frolf        1\n",
       "3  Becoming A Child Advocate        1\n",
       "4                     Soccer        1"
      ]
     },
     "execution_count": 17,
     "metadata": {},
     "output_type": "execute_result"
    }
   ],
   "source": [
    "df_users_hashtags.head()"
   ]
  },
  {
   "cell_type": "code",
   "execution_count": 18,
   "metadata": {},
   "outputs": [],
   "source": [
    "df_hashtags.to_csv(\"../db/fake_hashtags.csv\", sep = ';', index = False)\n",
    "df_users_hashtags.to_csv(\"../db/fake_users_hashtags.csv\", sep = ';', index = False)"
   ]
  },
  {
   "cell_type": "code",
   "execution_count": null,
   "metadata": {},
   "outputs": [],
   "source": []
  }
 ],
 "metadata": {
  "kernelspec": {
   "display_name": "Python 3",
   "language": "python",
   "name": "python3"
  },
  "language_info": {
   "codemirror_mode": {
    "name": "ipython",
    "version": 3
   },
   "file_extension": ".py",
   "mimetype": "text/x-python",
   "name": "python",
   "nbconvert_exporter": "python",
   "pygments_lexer": "ipython3",
   "version": "3.6.7"
  }
 },
 "nbformat": 4,
 "nbformat_minor": 2
}
