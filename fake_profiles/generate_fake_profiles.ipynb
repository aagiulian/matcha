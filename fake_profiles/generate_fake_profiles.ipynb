{
 "cells": [
  {
   "cell_type": "code",
   "execution_count": 68,
   "metadata": {},
   "outputs": [],
   "source": [
    "from shapely.geometry import Point\n",
    "from functools import reduce\n",
    "from faker import Faker\n",
    "from tqdm import tqdm\n",
    "import numpy as np\n",
    "import pandas as pd\n",
    "import matplotlib.pyplot as plt\n",
    "import seaborn as sns\n",
    "import geopandas as gpd\n",
    "import datetime\n",
    "import random\n",
    "import pprint\n",
    "import bcrypt\n",
    "import click\n",
    "import time\n",
    "import json\n",
    "import pytz\n",
    "%matplotlib inline\n",
    "\n",
    "pp = pprint.PrettyPrinter(indent=2)"
   ]
  },
  {
   "cell_type": "code",
   "execution_count": 9,
   "metadata": {},
   "outputs": [],
   "source": [
    "def sort_subreddits(filename, sort_with):\n",
    "    profile_pics = {}\n",
    "    with open(filename, 'r') as subreddit_file:\n",
    "        subs = json.load(subreddit_file)\n",
    "        for k,v in sort_with.items():\n",
    "            profile_pics[k] = reduce(lambda x,y: list(set(x + subs[y])), v, [])\n",
    "    return profile_pics\n",
    "\n",
    "def sexual_orientation():\n",
    "    orientation = [\n",
    "        'heterosexual',\n",
    "        'homosexual',\n",
    "        'bisexual']\n",
    "    return np.random.choice(orientation, p=[0.6, 0.2, 0.2])\n"
   ]
  },
  {
   "cell_type": "code",
   "execution_count": 3,
   "metadata": {},
   "outputs": [],
   "source": [
    "def profile_pic_generator():\n",
    "    subreddit_genders = {\n",
    "        'male': ['ladyboners', 'hotguys'],\n",
    "        'female': ['prettygirls', 'beautifulfemales']\n",
    "    }\n",
    "    profile_pics = sort_subreddits('./ladyboners_hotguys_prettygirls_beautifulfemales.json', subreddit_genders)\n",
    "    length = {'male': len(profile_pics['male']),\n",
    "              'female': len(profile_pics['female'])}\n",
    "    counter = {'male': 0,\n",
    "               'female': 0}\n",
    "    def next_profile_pic(gender):\n",
    "        if gender not in ['male', 'female']:\n",
    "            return ''\n",
    "        picture_url = profile_pics[gender][counter[gender] % length[gender]]\n",
    "        counter[gender] += 1\n",
    "        return picture_url\n",
    "    return next_profile_pic"
   ]
  },
  {
   "cell_type": "code",
   "execution_count": 38,
   "metadata": {},
   "outputs": [],
   "source": [
    "def generate_age_distribution(min_age = 18, max_age = 77, size = 1000):\n",
    "    ages = 13 + 12 * np.random.lognormal(0, 0.42, size = size)\n",
    "    return np.clip(ages, min_age, max_age)\n",
    "\n",
    "def plot_distribution(dist):\n",
    "    print(\"min:\", min(dist))\n",
    "    print(\"max:\", max(dist))\n",
    "    num_bins = 2 * int(max(dist) - min(dist))\n",
    "    plt.hist(dist, bins = num_bins if num_bins < 420 else 420)\n",
    "    plt.show()"
   ]
  },
  {
   "cell_type": "code",
   "execution_count": 39,
   "metadata": {},
   "outputs": [
    {
     "name": "stdout",
     "output_type": "stream",
     "text": [
      "min: 18.0\n",
      "max: 54.262270924335716\n"
     ]
    },
    {
     "data": {
      "image/png": "[encoded data removed]",
      "text/plain": [
       "<Figure size 432x288 with 1 Axes>"
      ]
     },
     "metadata": {
      "needs_background": "light"
     },
     "output_type": "display_data"
    }
   ],
   "source": [
    "ages = generate_age_distribution()\n",
    "plot_distribution(ages)"
   ]
  },
  {
   "cell_type": "code",
   "execution_count": 6,
   "metadata": {},
   "outputs": [],
   "source": [
    "def generate_date_of_birth(min_age = 18, max_age = 77, size = 1000):\n",
    "    tz = pytz.timezone('Europe/Paris')\n",
    "    ages = generate_age_distribution(min_age, max_age, size)\n",
    "    now = datetime.datetime.now(tz)\n",
    "    dob = [(now - datetime.timedelta(days = int(366 * age))).strftime(format=\"%Y-%m-%d %H:%M:%S%z\") for age in ages]\n",
    "    return dob"
   ]
  },
  {
   "cell_type": "code",
   "execution_count": 7,
   "metadata": {},
   "outputs": [
    {
     "name": "stdout",
     "output_type": "stream",
     "text": [
      "['1986-11-13 02:42:12+0200', '1996-03-17 02:42:12+0200', '1988-03-23 02:42:12+0200', '1995-11-10 02:42:12+0200', '1996-10-11 02:42:12+0200', '1998-06-13 02:42:12+0200', '1995-11-10 02:42:12+0200', '1997-03-13 02:42:12+0200', '1990-03-24 02:42:12+0200', '1992-08-12 02:42:12+0200']\n"
     ]
    }
   ],
   "source": [
    "dob = generate_date_of_birth(size=10)\n",
    "print(dob)"
   ]
  },
  {
   "cell_type": "code",
   "execution_count": 62,
   "metadata": {},
   "outputs": [
    {
     "name": "stdout",
     "output_type": "stream",
     "text": [
      "min: 3.9236105945031574\n",
      "max: 3467.839595239004\n"
     ]
    },
    {
     "data": {
      "image/png": "[encoded data removed]",
      "text/plain": [
       "<Figure size 432x288 with 1 Axes>"
      ]
     },
     "metadata": {
      "needs_background": "light"
     },
     "output_type": "display_data"
    }
   ],
   "source": [
    "def generate_minutes_distribution(size = 1000):\n",
    "    minutes = 100 * np.random.lognormal(0, 1.2, size = size)\n",
    "    return minutes\n",
    "\n",
    "plot_distribution(generate_minutes_distribution())"
   ]
  },
  {
   "cell_type": "code",
   "execution_count": 63,
   "metadata": {},
   "outputs": [],
   "source": [
    "def generate_last_seen(size = 1000):\n",
    "    tz = pytz.timezone('Europe/Paris')\n",
    "    minutes = generate_minutes_distribution(size = size)\n",
    "    now = datetime.datetime.now(tz)\n",
    "    last_seen = [(now - datetime.timedelta(seconds = int(60 * minute))).strftime(format=\"%Y-%m-%d %H:%M:%S%z\") for minute in minutes]\n",
    "    return last_seen"
   ]
  },
  {
   "cell_type": "code",
   "execution_count": null,
   "metadata": {},
   "outputs": [],
   "source": []
  },
  {
   "cell_type": "code",
   "execution_count": 85,
   "metadata": {},
   "outputs": [],
   "source": [
    "def generate_fake_profiles(size = 1000):\n",
    "    start = time.time()\n",
    "    fake = Faker('fr_FR')\n",
    "    next_profile_pic = profile_pic_generator()\n",
    "    hashed_password = bcrypt.hashpw(\"auie\", bcrypt.gensalt(10))\n",
    "    profiles = []\n",
    "    \n",
    "    for _ in tqdm(range(size)):\n",
    "        profile = fake.profile()\n",
    "        profile['hashed_password'] = hashed_password\n",
    "        name = profile['name'].split(' ')\n",
    "        profile['firstname'] = name[0]\n",
    "        profile['lastname'] = ' '.join(name[1:])\n",
    "        profile['gender'] = 'male' if profile['sex'] == 'M' else 'female'\n",
    "        profile['sexual_orientation'] = sexual_orientation()\n",
    "        profile['bio'] = fake.text(max_nb_chars = 200)\n",
    "        profile['num_pics'] = 1\n",
    "        profile['url_pp'] = next_profile_pic(profile['gender'])\n",
    "        profile['email'] = profile['mail']\n",
    "        lon, lat = fake.local_latlng(country_code=\"FR\", coords_only=True)\n",
    "        profile['position'] = Point((float(lon),float(lat)))\n",
    "        profile['popularity_score'] = random.randrange(100)\n",
    "        profile['verified'] = True\n",
    "        profile.pop('mail')\n",
    "        profile.pop('birthdate')\n",
    "        profile.pop('blood_group')\n",
    "        profile.pop('address')\n",
    "        profile.pop('company')\n",
    "        profile.pop('job')\n",
    "        profile.pop('name')\n",
    "        profile.pop('residence')\n",
    "        profile.pop('sex')\n",
    "        profile.pop('ssn')\n",
    "        profile.pop('website')\n",
    "        profile.pop('current_location')\n",
    "        profiles.append(profile)\n",
    "        \n",
    "    df = pd.DataFrame(profiles)\n",
    "    df['date_of_birth'] = generate_date_of_birth(min_age = 18, max_age = 77, size = size)\n",
    "    df['last_seen'] = generate_last_seen(size = size)\n",
    "    original_length = len(df)\n",
    "    df = df.drop_duplicates(['email', 'username'])\n",
    "    num_duplicated = original_length - len(df)\n",
    "    if (num_duplicated):\n",
    "        print(\"dropped {} row(s) (duplicated email or username)\".format(num_duplicated))\n",
    "    crs = {'init': 'epsg:4326'}\n",
    "    return gpd.GeoDataFrame(df, crs=crs, geometry='position')\n"
   ]
  },
  {
   "cell_type": "code",
   "execution_count": 86,
   "metadata": {},
   "outputs": [
    {
     "name": "stderr",
     "output_type": "stream",
     "text": [
      "100%|██████████| 1000/1000 [00:06<00:00, 145.09it/s]\n"
     ]
    }
   ],
   "source": [
    "df = generate_fake_profiles(size = 1000)"
   ]
  },
  {
   "cell_type": "code",
   "execution_count": 87,
   "metadata": {},
   "outputs": [
    {
     "data": {
      "text/html": [
       "<div>\n",
       "<style scoped>\n",
       "    .dataframe tbody tr th:only-of-type {\n",
       "        vertical-align: middle;\n",
       "    }\n",
       "\n",
       "    .dataframe tbody tr th {\n",
       "        vertical-align: top;\n",
       "    }\n",
       "\n",
       "    .dataframe thead th {\n",
       "        text-align: right;\n",
       "    }\n",
       "</style>\n",
       "<table border=\"1\" class=\"dataframe\">\n",
       "  <thead>\n",
       "    <tr style=\"text-align: right;\">\n",
       "      <th></th>\n",
       "      <th>bio</th>\n",
       "      <th>email</th>\n",
       "      <th>firstname</th>\n",
       "      <th>gender</th>\n",
       "      <th>hashed_password</th>\n",
       "      <th>lastname</th>\n",
       "      <th>num_pics</th>\n",
       "      <th>popularity_score</th>\n",
       "      <th>position</th>\n",
       "      <th>sexual_orientation</th>\n",
       "      <th>url_pp</th>\n",
       "      <th>username</th>\n",
       "      <th>verified</th>\n",
       "      <th>date_of_birth</th>\n",
       "      <th>last_seen</th>\n",
       "    </tr>\n",
       "  </thead>\n",
       "  <tbody>\n",
       "    <tr>\n",
       "      <th>0</th>\n",
       "      <td>Projet précieux commencer absolument fait jeun...</td>\n",
       "      <td>victor16@tele2.fr</td>\n",
       "      <td>Zacharie</td>\n",
       "      <td>male</td>\n",
       "      <td>$2a$10$Bkz/K4leilRjPBfCOrmPYe4fHN6ZIojMuWWJidW...</td>\n",
       "      <td>Antoine</td>\n",
       "      <td>1</td>\n",
       "      <td>73</td>\n",
       "      <td>POINT (43.61092 3.87723)</td>\n",
       "      <td>heterosexual</td>\n",
       "      <td>http://i.imgur.com/MQubKaT.jpg</td>\n",
       "      <td>roger61</td>\n",
       "      <td>True</td>\n",
       "      <td>1990-06-04 03:29:42+0200</td>\n",
       "      <td>2019-05-09 03:10:51+0200</td>\n",
       "    </tr>\n",
       "    <tr>\n",
       "      <th>1</th>\n",
       "      <td>Général projet appartement prendre. Quart avou...</td>\n",
       "      <td>olivier95@hotmail.fr</td>\n",
       "      <td>Paul</td>\n",
       "      <td>male</td>\n",
       "      <td>$2a$10$Bkz/K4leilRjPBfCOrmPYe4fHN6ZIojMuWWJidW...</td>\n",
       "      <td>Dumas</td>\n",
       "      <td>1</td>\n",
       "      <td>44</td>\n",
       "      <td>POINT (44.92801 4.8951)</td>\n",
       "      <td>heterosexual</td>\n",
       "      <td>https://i.imgur.com/WYPsmPG.jpg</td>\n",
       "      <td>louise27</td>\n",
       "      <td>True</td>\n",
       "      <td>1994-10-10 03:29:42+0200</td>\n",
       "      <td>2019-05-09 02:08:39+0200</td>\n",
       "    </tr>\n",
       "    <tr>\n",
       "      <th>2</th>\n",
       "      <td>Achever cou complet clef françois enlever situ...</td>\n",
       "      <td>dhebert@noos.fr</td>\n",
       "      <td>Corinne</td>\n",
       "      <td>female</td>\n",
       "      <td>$2a$10$Bkz/K4leilRjPBfCOrmPYe4fHN6ZIojMuWWJidW...</td>\n",
       "      <td>Laporte de la Descamps</td>\n",
       "      <td>1</td>\n",
       "      <td>8</td>\n",
       "      <td>POINT (44.92801 4.8951)</td>\n",
       "      <td>heterosexual</td>\n",
       "      <td>https://i.imgur.com/HXe5bGQ.jpg</td>\n",
       "      <td>inesseguin</td>\n",
       "      <td>True</td>\n",
       "      <td>1992-11-10 03:29:42+0200</td>\n",
       "      <td>2019-05-08 23:55:45+0200</td>\n",
       "    </tr>\n",
       "    <tr>\n",
       "      <th>3</th>\n",
       "      <td>Volonté beauté fumer expression commun intenti...</td>\n",
       "      <td>gimenezmartin@tele2.fr</td>\n",
       "      <td>Eugène</td>\n",
       "      <td>male</td>\n",
       "      <td>$2a$10$Bkz/K4leilRjPBfCOrmPYe4fHN6ZIojMuWWJidW...</td>\n",
       "      <td>Julien</td>\n",
       "      <td>1</td>\n",
       "      <td>44</td>\n",
       "      <td>POINT (45.69558 4.7934)</td>\n",
       "      <td>heterosexual</td>\n",
       "      <td>https://40.media.tumblr.com/293f23fbee6d48493d...</td>\n",
       "      <td>luce17</td>\n",
       "      <td>True</td>\n",
       "      <td>1980-11-20 03:29:42+0200</td>\n",
       "      <td>2019-05-09 02:23:19+0200</td>\n",
       "    </tr>\n",
       "    <tr>\n",
       "      <th>4</th>\n",
       "      <td>Contre attirer ciel maintenir pendre vouloir c...</td>\n",
       "      <td>emilie71@gmail.com</td>\n",
       "      <td>Michèle</td>\n",
       "      <td>female</td>\n",
       "      <td>$2a$10$Bkz/K4leilRjPBfCOrmPYe4fHN6ZIojMuWWJidW...</td>\n",
       "      <td>Louis-Raynaud</td>\n",
       "      <td>1</td>\n",
       "      <td>44</td>\n",
       "      <td>POINT (48.90472 2.2469)</td>\n",
       "      <td>bisexual</td>\n",
       "      <td>http://i.imgur.com/6fSD00e.jpg</td>\n",
       "      <td>cthierry</td>\n",
       "      <td>True</td>\n",
       "      <td>1997-06-04 03:29:42+0200</td>\n",
       "      <td>2019-05-09 02:40:54+0200</td>\n",
       "    </tr>\n",
       "  </tbody>\n",
       "</table>\n",
       "</div>"
      ],
      "text/plain": [
       "                                                 bio                   email  \\\n",
       "0  Projet précieux commencer absolument fait jeun...       victor16@tele2.fr   \n",
       "1  Général projet appartement prendre. Quart avou...    olivier95@hotmail.fr   \n",
       "2  Achever cou complet clef françois enlever situ...         dhebert@noos.fr   \n",
       "3  Volonté beauté fumer expression commun intenti...  gimenezmartin@tele2.fr   \n",
       "4  Contre attirer ciel maintenir pendre vouloir c...      emilie71@gmail.com   \n",
       "\n",
       "  firstname  gender                                    hashed_password  \\\n",
       "0  Zacharie    male  $2a$10$Bkz/K4leilRjPBfCOrmPYe4fHN6ZIojMuWWJidW...   \n",
       "1      Paul    male  $2a$10$Bkz/K4leilRjPBfCOrmPYe4fHN6ZIojMuWWJidW...   \n",
       "2   Corinne  female  $2a$10$Bkz/K4leilRjPBfCOrmPYe4fHN6ZIojMuWWJidW...   \n",
       "3    Eugène    male  $2a$10$Bkz/K4leilRjPBfCOrmPYe4fHN6ZIojMuWWJidW...   \n",
       "4   Michèle  female  $2a$10$Bkz/K4leilRjPBfCOrmPYe4fHN6ZIojMuWWJidW...   \n",
       "\n",
       "                 lastname  num_pics  popularity_score  \\\n",
       "0                 Antoine         1                73   \n",
       "1                   Dumas         1                44   \n",
       "2  Laporte de la Descamps         1                 8   \n",
       "3                  Julien         1                44   \n",
       "4           Louis-Raynaud         1                44   \n",
       "\n",
       "                   position sexual_orientation  \\\n",
       "0  POINT (43.61092 3.87723)       heterosexual   \n",
       "1   POINT (44.92801 4.8951)       heterosexual   \n",
       "2   POINT (44.92801 4.8951)       heterosexual   \n",
       "3   POINT (45.69558 4.7934)       heterosexual   \n",
       "4   POINT (48.90472 2.2469)           bisexual   \n",
       "\n",
       "                                              url_pp    username  verified  \\\n",
       "0                     http://i.imgur.com/MQubKaT.jpg     roger61      True   \n",
       "1                    https://i.imgur.com/WYPsmPG.jpg    louise27      True   \n",
       "2                    https://i.imgur.com/HXe5bGQ.jpg  inesseguin      True   \n",
       "3  https://40.media.tumblr.com/293f23fbee6d48493d...      luce17      True   \n",
       "4                     http://i.imgur.com/6fSD00e.jpg    cthierry      True   \n",
       "\n",
       "              date_of_birth                 last_seen  \n",
       "0  1990-06-04 03:29:42+0200  2019-05-09 03:10:51+0200  \n",
       "1  1994-10-10 03:29:42+0200  2019-05-09 02:08:39+0200  \n",
       "2  1992-11-10 03:29:42+0200  2019-05-08 23:55:45+0200  \n",
       "3  1980-11-20 03:29:42+0200  2019-05-09 02:23:19+0200  \n",
       "4  1997-06-04 03:29:42+0200  2019-05-09 02:40:54+0200  "
      ]
     },
     "execution_count": 87,
     "metadata": {},
     "output_type": "execute_result"
    }
   ],
   "source": [
    "df.head()"
   ]
  },
  {
   "cell_type": "code",
   "execution_count": 88,
   "metadata": {},
   "outputs": [],
   "source": [
    "df.to_csv(\"fake_profiles.csv\", sep = ';', index = False)"
   ]
  }
 ],
 "metadata": {
  "kernelspec": {
   "display_name": "Python 3",
   "language": "python",
   "name": "python3"
  },
  "language_info": {
   "codemirror_mode": {
    "name": "ipython",
    "version": 3
   },
   "file_extension": ".py",
   "mimetype": "text/x-python",
   "name": "python",
   "nbconvert_exporter": "python",
   "pygments_lexer": "ipython3",
   "version": "3.6.7"
  }
 },
 "nbformat": 4,
 "nbformat_minor": 2
}
