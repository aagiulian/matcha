{
 "cells": [
  {
   "cell_type": "code",
   "execution_count": 1,
   "metadata": {},
   "outputs": [],
   "source": [
    "#from shapely.geometry import Point\n",
    "from functools import reduce\n",
    "from faker import Faker\n",
    "from tqdm import tqdm\n",
    "import numpy as np\n",
    "import pandas as pd\n",
    "import matplotlib.pyplot as plt\n",
    "import seaborn as sns\n",
    "#import geopandas as gpd\n",
    "import datetime\n",
    "import random\n",
    "import pprint\n",
    "import bcrypt\n",
    "#import click\n",
    "import time\n",
    "import json\n",
    "import pytz\n",
    "%matplotlib inline\n",
    "\n",
    "pp = pprint.PrettyPrinter(indent=2)"
   ]
  },
  {
   "cell_type": "code",
   "execution_count": 57,
   "metadata": {},
   "outputs": [],
   "source": [
    "def sort_subreddits(filename, sort_with):\n",
    "    profile_pics = {}\n",
    "    with open(filename, 'r') as subreddit_file:\n",
    "        subs = json.load(subreddit_file)\n",
    "        for k,v in sort_with.items():\n",
    "            profile_pics[k] = reduce(lambda x,y: list(set(x + subs[y])), v, [])\n",
    "    return profile_pics\n",
    "\n",
    "def sexual_orientation():\n",
    "    orientation = [\n",
    "        'heterosexual',\n",
    "        'homosexual',\n",
    "        'bisexual']\n",
    "    return np.random.choice(orientation, p=[0.6, 0.2, 0.2])\n",
    "\n",
    "\n",
    "looking_for = {\n",
    "    \"male\": {\n",
    "        \"heterosexual\": \"{female}\",\n",
    "        \"homosexual\": \"{male}\",\n",
    "        \"bisexual\": \"{male,female}\",\n",
    "    },\n",
    "    \"female\": {\n",
    "        \"heterosexual\": \"{male}\",\n",
    "        \"homosexual\": \"{female}\",\n",
    "        \"bisexual\": \"{male,female}\",\n",
    "    }\n",
    "} "
   ]
  },
  {
   "cell_type": "code",
   "execution_count": 58,
   "metadata": {},
   "outputs": [],
   "source": [
    "def profile_pic_generator():\n",
    "    subreddit_genders = {\n",
    "        'female': ['catpictures', 'blep'],\n",
    "        'male': ['dogpictures', 'blop']\n",
    "    }\n",
    "    profile_pics = sort_subreddits('./blep_catpictures_blop_dogpictures.json', subreddit_genders)\n",
    "    length = {'male': len(profile_pics['male']),\n",
    "              'female': len(profile_pics['female'])}\n",
    "    counter = {'male': 0,\n",
    "               'female': 0}\n",
    "    def next_profile_pic(gender):\n",
    "        if gender not in ['male', 'female']:\n",
    "            return ''\n",
    "        picture_url = profile_pics[gender][counter[gender] % length[gender]]\n",
    "        counter[gender] += 1\n",
    "        return picture_url\n",
    "    return next_profile_pic"
   ]
  },
  {
   "cell_type": "code",
   "execution_count": 59,
   "metadata": {},
   "outputs": [],
   "source": [
    "def generate_age_distribution(min_age = 18, max_age = 77, size = 1000):\n",
    "    ages = 13 + 12 * np.random.lognormal(0, 0.42, size = size)\n",
    "    return np.clip(ages, min_age, max_age)\n",
    "\n",
    "def plot_distribution(dist):\n",
    "    print(\"min:\", min(dist))\n",
    "    print(\"max:\", max(dist))\n",
    "    num_bins = 2 * int(max(dist) - min(dist))\n",
    "    plt.hist(dist, bins = num_bins if num_bins < 420 else 420)\n",
    "    plt.show()"
   ]
  },
  {
   "cell_type": "code",
   "execution_count": 60,
   "metadata": {},
   "outputs": [
    {
     "name": "stdout",
     "output_type": "stream",
     "text": [
      "min: 18.0\n",
      "max: 68.23086325860183\n"
     ]
    },
    {
     "data": {
      "image/png": "[encoded data removed]",
      "text/plain": [
       "<Figure size 432x288 with 1 Axes>"
      ]
     },
     "metadata": {
      "needs_background": "light"
     },
     "output_type": "display_data"
    }
   ],
   "source": [
    "ages = generate_age_distribution()\n",
    "plot_distribution(ages)"
   ]
  },
  {
   "cell_type": "code",
   "execution_count": 61,
   "metadata": {},
   "outputs": [],
   "source": [
    "def generate_date_of_birth(min_age = 18, max_age = 77, size = 1000):\n",
    "    tz = pytz.timezone('Europe/Paris')\n",
    "    ages = generate_age_distribution(min_age, max_age, size)\n",
    "    now = datetime.datetime.now(tz)\n",
    "    dob = [(now - datetime.timedelta(days = int(366 * age))).strftime(format=\"%Y-%m-%d %H:%M:%S%z\") for age in ages]\n",
    "    return dob"
   ]
  },
  {
   "cell_type": "code",
   "execution_count": 62,
   "metadata": {},
   "outputs": [
    {
     "name": "stdout",
     "output_type": "stream",
     "text": [
      "['1986-09-19 13:31:22+0200', '1995-07-19 13:31:22+0200', '1987-06-01 13:31:22+0200', '1997-02-01 13:31:22+0200', '1992-07-31 13:31:22+0200', '1999-02-05 13:31:22+0200', '1971-01-17 13:31:22+0200', '1998-06-18 13:31:22+0200', '1992-05-12 13:31:22+0200', '1985-05-19 13:31:22+0200']\n"
     ]
    }
   ],
   "source": [
    "dob = generate_date_of_birth(size=10)\n",
    "print(dob)"
   ]
  },
  {
   "cell_type": "code",
   "execution_count": 63,
   "metadata": {},
   "outputs": [
    {
     "name": "stdout",
     "output_type": "stream",
     "text": [
      "min: 1.5560695003581089\n",
      "max: 5134.808818512753\n"
     ]
    },
    {
     "data": {
      "image/png": "[encoded data removed]",
      "text/plain": [
       "<Figure size 432x288 with 1 Axes>"
      ]
     },
     "metadata": {
      "needs_background": "light"
     },
     "output_type": "display_data"
    }
   ],
   "source": [
    "def generate_minutes_distribution(size = 1000):\n",
    "    minutes = 100 * np.random.lognormal(0, 1.2, size = size)\n",
    "    return minutes\n",
    "\n",
    "plot_distribution(generate_minutes_distribution())"
   ]
  },
  {
   "cell_type": "code",
   "execution_count": 64,
   "metadata": {},
   "outputs": [],
   "source": [
    "def generate_last_seen(size = 1000):\n",
    "    tz = pytz.timezone('Europe/Paris')\n",
    "    minutes = generate_minutes_distribution(size = size)\n",
    "    now = datetime.datetime.now(tz)\n",
    "    last_seen = [(now - datetime.timedelta(seconds = int(60 * minute))).strftime(format=\"%Y-%m-%d %H:%M:%S%z\") for minute in minutes]\n",
    "    return last_seen"
   ]
  },
  {
   "cell_type": "code",
   "execution_count": null,
   "metadata": {},
   "outputs": [],
   "source": []
  },
  {
   "cell_type": "code",
   "execution_count": 65,
   "metadata": {},
   "outputs": [],
   "source": [
    "def generate_fake_profiles(size = 1000):\n",
    "    start = time.time()\n",
    "    fake = Faker('fr_FR')\n",
    "    next_profile_pic = profile_pic_generator()\n",
    "    hashed_password = bcrypt.hashpw(\"auie\".encode('utf-8'), bcrypt.gensalt(10))\n",
    "    profiles = []\n",
    "    \n",
    "    for _ in tqdm(range(size)):\n",
    "        profile = fake.profile()\n",
    "        profile['hashed_password'] = hashed_password\n",
    "        name = profile['name'].split(' ')\n",
    "        profile['firstname'] = name[0]\n",
    "        profile['lastname'] = ' '.join(name[1:])\n",
    "        profile['gender'] = 'male' if profile['sex'] == 'M' else 'female'\n",
    "        profile['sexual_orientation'] = sexual_orientation()\n",
    "        profile['lookingfor'] = looking_for[profile['gender']][profile['sexual_orientation']]\n",
    "        profile['bio'] = fake.text(max_nb_chars = 200)\n",
    "        profile['num_pics'] = 1\n",
    "        profile['url_pp'] = next_profile_pic(profile['gender'])\n",
    "        profile['email'] = profile['mail']\n",
    "        lon, lat = fake.local_latlng(country_code=\"FR\", coords_only=True)\n",
    "        profile['location'] =  '(' + lat + ',' + lon + ')'\n",
    "        profile['popularity_score'] = random.randrange(100)\n",
    "        profile['verified'] = True\n",
    "        profile.pop('mail')\n",
    "        profile.pop('birthdate')\n",
    "        profile.pop('blood_group')\n",
    "        profile.pop('address')\n",
    "        profile.pop('company')\n",
    "        profile.pop('job')\n",
    "        profile.pop('name')\n",
    "        profile.pop('residence')\n",
    "        profile.pop('sex')\n",
    "        profile.pop('ssn')\n",
    "        profile.pop('website')\n",
    "        profile.pop('current_location')\n",
    "        profiles.append(profile)\n",
    "        \n",
    "    df = pd.DataFrame(profiles)\n",
    "    df['date_of_birth'] = generate_date_of_birth(min_age = 18, max_age = 77, size = size)\n",
    "    df['last_seen'] = generate_last_seen(size = size)\n",
    "    original_length = len(df)\n",
    "    df = df.drop_duplicates('username')\n",
    "    df = df.drop_duplicates('email')\n",
    "    num_duplicated = original_length - len(df)\n",
    "    if (num_duplicated):\n",
    "        print(\"dropped {} row(s) (duplicated email or username)\".format(num_duplicated))\n",
    "    return df\n"
   ]
  },
  {
   "cell_type": "code",
   "execution_count": 66,
   "metadata": {},
   "outputs": [
    {
     "name": "stderr",
     "output_type": "stream",
     "text": [
      "100%|██████████| 1000/1000 [00:03<00:00, 322.12it/s]\n"
     ]
    },
    {
     "name": "stdout",
     "output_type": "stream",
     "text": [
      "dropped 8 row(s) (duplicated email or username)\n"
     ]
    }
   ],
   "source": [
    "df = generate_fake_profiles(size = 1000)"
   ]
  },
  {
   "cell_type": "code",
   "execution_count": 67,
   "metadata": {},
   "outputs": [
    {
     "data": {
      "text/html": [
       "<div>\n",
       "<style scoped>\n",
       "    .dataframe tbody tr th:only-of-type {\n",
       "        vertical-align: middle;\n",
       "    }\n",
       "\n",
       "    .dataframe tbody tr th {\n",
       "        vertical-align: top;\n",
       "    }\n",
       "\n",
       "    .dataframe thead th {\n",
       "        text-align: right;\n",
       "    }\n",
       "</style>\n",
       "<table border=\"1\" class=\"dataframe\">\n",
       "  <thead>\n",
       "    <tr style=\"text-align: right;\">\n",
       "      <th></th>\n",
       "      <th>bio</th>\n",
       "      <th>email</th>\n",
       "      <th>firstname</th>\n",
       "      <th>gender</th>\n",
       "      <th>hashed_password</th>\n",
       "      <th>lastname</th>\n",
       "      <th>location</th>\n",
       "      <th>lookingfor</th>\n",
       "      <th>num_pics</th>\n",
       "      <th>popularity_score</th>\n",
       "      <th>sexual_orientation</th>\n",
       "      <th>url_pp</th>\n",
       "      <th>username</th>\n",
       "      <th>verified</th>\n",
       "      <th>date_of_birth</th>\n",
       "      <th>last_seen</th>\n",
       "    </tr>\n",
       "  </thead>\n",
       "  <tbody>\n",
       "    <tr>\n",
       "      <th>0</th>\n",
       "      <td>Nation visite enlever devant front dix chair. ...</td>\n",
       "      <td>augustintraore@orange.fr</td>\n",
       "      <td>Audrey</td>\n",
       "      <td>female</td>\n",
       "      <td>$2a$10$gxA4vG0vSPNjLG0CO/jKu.yE1YyUZIGWhpnJaIJ...</td>\n",
       "      <td>Martel</td>\n",
       "      <td>(8.73812,41.91886)</td>\n",
       "      <td>{male}</td>\n",
       "      <td>1</td>\n",
       "      <td>18</td>\n",
       "      <td>heterosexual</td>\n",
       "      <td>https://i.imgur.com/0JtgXmq.jpg</td>\n",
       "      <td>rthomas</td>\n",
       "      <td>True</td>\n",
       "      <td>1995-07-30 13:31:27+0200</td>\n",
       "      <td>2019-06-05 12:42:29+0200</td>\n",
       "    </tr>\n",
       "    <tr>\n",
       "      <th>1</th>\n",
       "      <td>Article coup soleil retomber façon. Jour expri...</td>\n",
       "      <td>moreldenis@club-internet.fr</td>\n",
       "      <td>Françoise</td>\n",
       "      <td>female</td>\n",
       "      <td>$2a$10$gxA4vG0vSPNjLG0CO/jKu.yE1YyUZIGWhpnJaIJ...</td>\n",
       "      <td>Barthelemy du Adam</td>\n",
       "      <td>(2.45012,48.90982)</td>\n",
       "      <td>{male,female}</td>\n",
       "      <td>1</td>\n",
       "      <td>71</td>\n",
       "      <td>bisexual</td>\n",
       "      <td>https://i.imgur.com/5i39GXf.jpg</td>\n",
       "      <td>boyerluc</td>\n",
       "      <td>True</td>\n",
       "      <td>1995-03-16 13:31:27+0200</td>\n",
       "      <td>2019-06-05 12:33:24+0200</td>\n",
       "    </tr>\n",
       "    <tr>\n",
       "      <th>2</th>\n",
       "      <td>Vert trois depuis français. Mari jouer doute r...</td>\n",
       "      <td>edithbenoit@live.com</td>\n",
       "      <td>Danielle-Corinne</td>\n",
       "      <td>female</td>\n",
       "      <td>$2a$10$gxA4vG0vSPNjLG0CO/jKu.yE1YyUZIGWhpnJaIJ...</td>\n",
       "      <td>Maillot</td>\n",
       "      <td>(2.25,50.75)</td>\n",
       "      <td>{male}</td>\n",
       "      <td>1</td>\n",
       "      <td>10</td>\n",
       "      <td>heterosexual</td>\n",
       "      <td>https://i.imgur.com/gWwtMGj.jpg</td>\n",
       "      <td>jfouquet</td>\n",
       "      <td>True</td>\n",
       "      <td>1992-02-08 13:31:27+0200</td>\n",
       "      <td>2019-06-05 11:17:50+0200</td>\n",
       "    </tr>\n",
       "    <tr>\n",
       "      <th>3</th>\n",
       "      <td>Qui travail école droite demeurer. Usage lutte...</td>\n",
       "      <td>dupreguillaume@noos.fr</td>\n",
       "      <td>Marguerite</td>\n",
       "      <td>female</td>\n",
       "      <td>$2a$10$gxA4vG0vSPNjLG0CO/jKu.yE1YyUZIGWhpnJaIJ...</td>\n",
       "      <td>Rousseau</td>\n",
       "      <td>(4.7934,45.69558)</td>\n",
       "      <td>{male}</td>\n",
       "      <td>1</td>\n",
       "      <td>11</td>\n",
       "      <td>heterosexual</td>\n",
       "      <td>https://i.imgur.com/60mS9a9.jpg</td>\n",
       "      <td>fabreagathe</td>\n",
       "      <td>True</td>\n",
       "      <td>1998-02-15 13:31:27+0200</td>\n",
       "      <td>2019-06-05 08:33:58+0200</td>\n",
       "    </tr>\n",
       "    <tr>\n",
       "      <th>4</th>\n",
       "      <td>Gauche roman seigneur raison esprit maintenant...</td>\n",
       "      <td>claudeduval@ifrance.com</td>\n",
       "      <td>Gilles</td>\n",
       "      <td>male</td>\n",
       "      <td>$2a$10$gxA4vG0vSPNjLG0CO/jKu.yE1YyUZIGWhpnJaIJ...</td>\n",
       "      <td>Grenier</td>\n",
       "      <td>(1.00288,49.28669)</td>\n",
       "      <td>{male,female}</td>\n",
       "      <td>1</td>\n",
       "      <td>61</td>\n",
       "      <td>bisexual</td>\n",
       "      <td>https://i.imgur.com/v5j4nhn.jpg</td>\n",
       "      <td>josephinebernier</td>\n",
       "      <td>True</td>\n",
       "      <td>1981-10-01 13:31:27+0200</td>\n",
       "      <td>2019-06-05 11:48:53+0200</td>\n",
       "    </tr>\n",
       "  </tbody>\n",
       "</table>\n",
       "</div>"
      ],
      "text/plain": [
       "                                                 bio  \\\n",
       "0  Nation visite enlever devant front dix chair. ...   \n",
       "1  Article coup soleil retomber façon. Jour expri...   \n",
       "2  Vert trois depuis français. Mari jouer doute r...   \n",
       "3  Qui travail école droite demeurer. Usage lutte...   \n",
       "4  Gauche roman seigneur raison esprit maintenant...   \n",
       "\n",
       "                         email         firstname  gender  \\\n",
       "0     augustintraore@orange.fr            Audrey  female   \n",
       "1  moreldenis@club-internet.fr         Françoise  female   \n",
       "2         edithbenoit@live.com  Danielle-Corinne  female   \n",
       "3       dupreguillaume@noos.fr        Marguerite  female   \n",
       "4      claudeduval@ifrance.com            Gilles    male   \n",
       "\n",
       "                                     hashed_password            lastname  \\\n",
       "0  $2a$10$gxA4vG0vSPNjLG0CO/jKu.yE1YyUZIGWhpnJaIJ...              Martel   \n",
       "1  $2a$10$gxA4vG0vSPNjLG0CO/jKu.yE1YyUZIGWhpnJaIJ...  Barthelemy du Adam   \n",
       "2  $2a$10$gxA4vG0vSPNjLG0CO/jKu.yE1YyUZIGWhpnJaIJ...             Maillot   \n",
       "3  $2a$10$gxA4vG0vSPNjLG0CO/jKu.yE1YyUZIGWhpnJaIJ...            Rousseau   \n",
       "4  $2a$10$gxA4vG0vSPNjLG0CO/jKu.yE1YyUZIGWhpnJaIJ...             Grenier   \n",
       "\n",
       "             location     lookingfor  num_pics  popularity_score  \\\n",
       "0  (8.73812,41.91886)         {male}         1                18   \n",
       "1  (2.45012,48.90982)  {male,female}         1                71   \n",
       "2        (2.25,50.75)         {male}         1                10   \n",
       "3   (4.7934,45.69558)         {male}         1                11   \n",
       "4  (1.00288,49.28669)  {male,female}         1                61   \n",
       "\n",
       "  sexual_orientation                           url_pp          username  \\\n",
       "0       heterosexual  https://i.imgur.com/0JtgXmq.jpg           rthomas   \n",
       "1           bisexual  https://i.imgur.com/5i39GXf.jpg          boyerluc   \n",
       "2       heterosexual  https://i.imgur.com/gWwtMGj.jpg          jfouquet   \n",
       "3       heterosexual  https://i.imgur.com/60mS9a9.jpg       fabreagathe   \n",
       "4           bisexual  https://i.imgur.com/v5j4nhn.jpg  josephinebernier   \n",
       "\n",
       "   verified             date_of_birth                 last_seen  \n",
       "0      True  1995-07-30 13:31:27+0200  2019-06-05 12:42:29+0200  \n",
       "1      True  1995-03-16 13:31:27+0200  2019-06-05 12:33:24+0200  \n",
       "2      True  1992-02-08 13:31:27+0200  2019-06-05 11:17:50+0200  \n",
       "3      True  1998-02-15 13:31:27+0200  2019-06-05 08:33:58+0200  \n",
       "4      True  1981-10-01 13:31:27+0200  2019-06-05 11:48:53+0200  "
      ]
     },
     "execution_count": 67,
     "metadata": {},
     "output_type": "execute_result"
    }
   ],
   "source": [
    "df.head()"
   ]
  },
  {
   "cell_type": "code",
   "execution_count": 68,
   "metadata": {},
   "outputs": [],
   "source": [
    "#df.to_csv(\"../db/fake_profiles.csv\", sep = ';', index_label = 'id')\n",
    "df.to_csv(\"../db/fake_profiles.csv\", sep = ';', index = False)"
   ]
  },
  {
   "cell_type": "code",
   "execution_count": 69,
   "metadata": {},
   "outputs": [],
   "source": [
    "USER_MAX_HASHTAGS = 12\n",
    "\n",
    "def generate_hashtags(size = 1000, hashtag_filename = \"./hashtags.json\"):\n",
    "    users_hashtags = []\n",
    "    hashtags = []\n",
    "    with open(hashtag_filename) as hf:\n",
    "        hashtags = json.load(hf)[\"hashtags\"]\n",
    "    total_hashtags = len(hashtags)\n",
    "    for user_id in range(size):\n",
    "        num_hashtags = random.randrange(USER_MAX_HASHTAGS)\n",
    "        for _ in range(num_hashtags):\n",
    "            user_hashtags = {}\n",
    "            user_hashtags[\"user_id\"] = user_id\n",
    "            user_hashtags[\"hashtag_name\"] = hashtags[random.randrange(total_hashtags)]\n",
    "            users_hashtags.append(user_hashtags)\n",
    "    df_hashtags = pd.DataFrame.from_dict({\"hashtags\": hashtags})\n",
    "    df_users_hashtags = pd.DataFrame(users_hashtags)\n",
    "    return (df_hashtags, df_users_hashtags)"
   ]
  },
  {
   "cell_type": "code",
   "execution_count": 71,
   "metadata": {},
   "outputs": [],
   "source": [
    "(df_hashtags, df_users_hashtags) = generate_hashtags(len(df))"
   ]
  },
  {
   "cell_type": "code",
   "execution_count": 72,
   "metadata": {},
   "outputs": [
    {
     "data": {
      "text/html": [
       "<div>\n",
       "<style scoped>\n",
       "    .dataframe tbody tr th:only-of-type {\n",
       "        vertical-align: middle;\n",
       "    }\n",
       "\n",
       "    .dataframe tbody tr th {\n",
       "        vertical-align: top;\n",
       "    }\n",
       "\n",
       "    .dataframe thead th {\n",
       "        text-align: right;\n",
       "    }\n",
       "</style>\n",
       "<table border=\"1\" class=\"dataframe\">\n",
       "  <thead>\n",
       "    <tr style=\"text-align: right;\">\n",
       "      <th></th>\n",
       "      <th>hashtags</th>\n",
       "    </tr>\n",
       "  </thead>\n",
       "  <tbody>\n",
       "    <tr>\n",
       "      <th>0</th>\n",
       "      <td>Aircraft Spotting</td>\n",
       "    </tr>\n",
       "    <tr>\n",
       "      <th>1</th>\n",
       "      <td>Airbrushing</td>\n",
       "    </tr>\n",
       "    <tr>\n",
       "      <th>2</th>\n",
       "      <td>Airsofting</td>\n",
       "    </tr>\n",
       "    <tr>\n",
       "      <th>3</th>\n",
       "      <td>Acting</td>\n",
       "    </tr>\n",
       "    <tr>\n",
       "      <th>4</th>\n",
       "      <td>Aeromodeling</td>\n",
       "    </tr>\n",
       "  </tbody>\n",
       "</table>\n",
       "</div>"
      ],
      "text/plain": [
       "            hashtags\n",
       "0  Aircraft Spotting\n",
       "1        Airbrushing\n",
       "2         Airsofting\n",
       "3             Acting\n",
       "4       Aeromodeling"
      ]
     },
     "execution_count": 72,
     "metadata": {},
     "output_type": "execute_result"
    }
   ],
   "source": [
    "df_hashtags.head()"
   ]
  },
  {
   "cell_type": "code",
   "execution_count": 73,
   "metadata": {},
   "outputs": [
    {
     "data": {
      "text/html": [
       "<div>\n",
       "<style scoped>\n",
       "    .dataframe tbody tr th:only-of-type {\n",
       "        vertical-align: middle;\n",
       "    }\n",
       "\n",
       "    .dataframe tbody tr th {\n",
       "        vertical-align: top;\n",
       "    }\n",
       "\n",
       "    .dataframe thead th {\n",
       "        text-align: right;\n",
       "    }\n",
       "</style>\n",
       "<table border=\"1\" class=\"dataframe\">\n",
       "  <thead>\n",
       "    <tr style=\"text-align: right;\">\n",
       "      <th></th>\n",
       "      <th>hashtag_name</th>\n",
       "      <th>user_id</th>\n",
       "    </tr>\n",
       "  </thead>\n",
       "  <tbody>\n",
       "    <tr>\n",
       "      <th>0</th>\n",
       "      <td>Collecting Hats</td>\n",
       "      <td>0</td>\n",
       "    </tr>\n",
       "    <tr>\n",
       "      <th>1</th>\n",
       "      <td>Inventing</td>\n",
       "      <td>0</td>\n",
       "    </tr>\n",
       "    <tr>\n",
       "      <th>2</th>\n",
       "      <td>Crochet</td>\n",
       "      <td>0</td>\n",
       "    </tr>\n",
       "    <tr>\n",
       "      <th>3</th>\n",
       "      <td>Gardening</td>\n",
       "      <td>0</td>\n",
       "    </tr>\n",
       "    <tr>\n",
       "      <th>4</th>\n",
       "      <td>Handwriting Analysis</td>\n",
       "      <td>0</td>\n",
       "    </tr>\n",
       "  </tbody>\n",
       "</table>\n",
       "</div>"
      ],
      "text/plain": [
       "           hashtag_name  user_id\n",
       "0       Collecting Hats        0\n",
       "1             Inventing        0\n",
       "2               Crochet        0\n",
       "3             Gardening        0\n",
       "4  Handwriting Analysis        0"
      ]
     },
     "execution_count": 73,
     "metadata": {},
     "output_type": "execute_result"
    }
   ],
   "source": [
    "df_users_hashtags.head()"
   ]
  },
  {
   "cell_type": "code",
   "execution_count": 75,
   "metadata": {},
   "outputs": [],
   "source": [
    "df_hashtags.to_csv(\"../db/fake_hashtags.csv\", sep = ';', index = False)\n",
    "df_users_hashtags.to_csv(\"../db/fake_users_hashtags.csv\", sep = ';', index = False)"
   ]
  },
  {
   "cell_type": "code",
   "execution_count": null,
   "metadata": {},
   "outputs": [],
   "source": []
  }
 ],
 "metadata": {
  "kernelspec": {
   "display_name": "Python 3",
   "language": "python",
   "name": "python3"
  },
  "language_info": {
   "codemirror_mode": {
    "name": "ipython",
    "version": 3
   },
   "file_extension": ".py",
   "mimetype": "text/x-python",
   "name": "python",
   "nbconvert_exporter": "python",
   "pygments_lexer": "ipython3",
   "version": "3.6.7"
  }
 },
 "nbformat": 4,
 "nbformat_minor": 2
}
