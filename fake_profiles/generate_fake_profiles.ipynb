{
 "cells": [
  {
   "cell_type": "code",
   "execution_count": 1,
   "metadata": {},
   "outputs": [],
   "source": [
    "#from shapely.geometry import Point\n",
    "from functools import reduce\n",
    "from faker import Faker\n",
    "from tqdm import tqdm\n",
    "import numpy as np\n",
    "import pandas as pd\n",
    "import matplotlib.pyplot as plt\n",
    "import seaborn as sns\n",
    "#import geopandas as gpd\n",
    "import datetime\n",
    "import random\n",
    "import pprint\n",
    "import bcrypt\n",
    "#import click\n",
    "import time\n",
    "import json\n",
    "import pytz\n",
    "%matplotlib inline\n",
    "\n",
    "pp = pprint.PrettyPrinter(indent=2)"
   ]
  },
  {
   "cell_type": "code",
   "execution_count": 2,
   "metadata": {},
   "outputs": [],
   "source": [
    "def sort_subreddits(filename, sort_with):\n",
    "    profile_pics = {}\n",
    "    with open(filename, 'r') as subreddit_file:\n",
    "        subs = json.load(subreddit_file)\n",
    "        for k,v in sort_with.items():\n",
    "            profile_pics[k] = reduce(lambda x,y: list(set(x + subs[y])), v, [])\n",
    "    return profile_pics\n",
    "\n",
    "def sexual_orientation():\n",
    "    orientation = [\n",
    "        'heterosexual',\n",
    "        'homosexual',\n",
    "        'bisexual']\n",
    "    return np.random.choice(orientation, p=[0.6, 0.2, 0.2])\n",
    "\n",
    "\n",
    "looking_for = {\n",
    "    \"male\": {\n",
    "        \"heterosexual\": \"{female}\",\n",
    "        \"homosexual\": \"{male}\",\n",
    "        \"bisexual\": \"{male,female}\",\n",
    "    },\n",
    "    \"female\": {\n",
    "        \"heterosexual\": \"{male}\",\n",
    "        \"homosexual\": \"{female}\",\n",
    "        \"bisexual\": \"{male,female}\",\n",
    "    }\n",
    "} "
   ]
  },
  {
   "cell_type": "code",
   "execution_count": 3,
   "metadata": {},
   "outputs": [],
   "source": [
    "def profile_pic_generator():\n",
    "    subreddit_genders = {\n",
    "        'female': ['catpictures', 'blep'],\n",
    "        'male': ['dogpictures', 'blop']\n",
    "    }\n",
    "    profile_pics = sort_subreddits('./blep_catpictures_blop_dogpictures.json', subreddit_genders)\n",
    "    length = {'male': len(profile_pics['male']),\n",
    "              'female': len(profile_pics['female'])}\n",
    "    counter = {'male': 0,\n",
    "               'female': 0}\n",
    "    def next_profile_pic(gender):\n",
    "        if gender not in ['male', 'female']:\n",
    "            return ''\n",
    "        picture_url = profile_pics[gender][counter[gender] % length[gender]]\n",
    "        counter[gender] += 1\n",
    "        return picture_url\n",
    "    return next_profile_pic"
   ]
  },
  {
   "cell_type": "code",
   "execution_count": 4,
   "metadata": {},
   "outputs": [],
   "source": [
    "def generate_age_distribution(min_age = 18, max_age = 77, size = 1000):\n",
    "    ages = 13 + 12 * np.random.lognormal(0, 0.42, size = size)\n",
    "    return np.clip(ages, min_age, max_age)\n",
    "\n",
    "def plot_distribution(dist):\n",
    "    print(\"min:\", min(dist))\n",
    "    print(\"max:\", max(dist))\n",
    "    num_bins = 2 * int(max(dist) - min(dist))\n",
    "    plt.hist(dist, bins = num_bins if num_bins < 420 else 420)\n",
    "    plt.show()"
   ]
  },
  {
   "cell_type": "code",
   "execution_count": 5,
   "metadata": {},
   "outputs": [
    {
     "name": "stdout",
     "output_type": "stream",
     "text": [
      "min: 18.0\n",
      "max: 51.21600332341168\n"
     ]
    },
    {
     "data": {
      "image/png": "[encoded data removed]",
      "text/plain": [
       "<Figure size 432x288 with 1 Axes>"
      ]
     },
     "metadata": {
      "needs_background": "light"
     },
     "output_type": "display_data"
    }
   ],
   "source": [
    "ages = generate_age_distribution()\n",
    "plot_distribution(ages)"
   ]
  },
  {
   "cell_type": "code",
   "execution_count": 6,
   "metadata": {},
   "outputs": [],
   "source": [
    "def generate_date_of_birth(min_age = 18, max_age = 77, size = 1000):\n",
    "    tz = pytz.timezone('Europe/Paris')\n",
    "    ages = generate_age_distribution(min_age, max_age, size)\n",
    "    now = datetime.datetime.now(tz)\n",
    "    dob = [(now - datetime.timedelta(days = int(366 * age))).strftime(format=\"%Y-%m-%d %H:%M:%S%z\") for age in ages]\n",
    "    return dob"
   ]
  },
  {
   "cell_type": "code",
   "execution_count": 7,
   "metadata": {},
   "outputs": [
    {
     "name": "stdout",
     "output_type": "stream",
     "text": [
      "['1976-12-22 01:26:36+0200', '1995-11-24 01:26:36+0200', '1996-07-22 01:26:36+0200', '1979-08-12 01:26:36+0200', '1998-10-04 01:26:36+0200', '1990-02-24 01:26:36+0200', '1993-10-10 01:26:36+0200', '1989-04-04 01:26:36+0200', '1992-03-10 01:26:36+0200', '1984-09-26 01:26:36+0200']\n"
     ]
    }
   ],
   "source": [
    "dob = generate_date_of_birth(size=10)\n",
    "print(dob)"
   ]
  },
  {
   "cell_type": "code",
   "execution_count": 8,
   "metadata": {},
   "outputs": [
    {
     "name": "stdout",
     "output_type": "stream",
     "text": [
      "min: 1.5633469301668508\n",
      "max: 3764.532753635213\n"
     ]
    },
    {
     "data": {
      "image/png": "[encoded data removed]",
      "text/plain": [
       "<Figure size 432x288 with 1 Axes>"
      ]
     },
     "metadata": {
      "needs_background": "light"
     },
     "output_type": "display_data"
    }
   ],
   "source": [
    "def generate_minutes_distribution(size = 1000):\n",
    "    minutes = 100 * np.random.lognormal(0, 1.2, size = size)\n",
    "    return minutes\n",
    "\n",
    "plot_distribution(generate_minutes_distribution())"
   ]
  },
  {
   "cell_type": "code",
   "execution_count": 9,
   "metadata": {},
   "outputs": [],
   "source": [
    "def generate_last_seen(size = 1000):\n",
    "    tz = pytz.timezone('Europe/Paris')\n",
    "    minutes = generate_minutes_distribution(size = size)\n",
    "    now = datetime.datetime.now(tz)\n",
    "    last_seen = [(now - datetime.timedelta(seconds = int(60 * minute))).strftime(format=\"%Y-%m-%d %H:%M:%S%z\") for minute in minutes]\n",
    "    return last_seen"
   ]
  },
  {
   "cell_type": "code",
   "execution_count": null,
   "metadata": {},
   "outputs": [],
   "source": []
  },
  {
   "cell_type": "code",
   "execution_count": 10,
   "metadata": {},
   "outputs": [],
   "source": [
    "def generate_fake_profiles(size = 1000):\n",
    "    start = time.time()\n",
    "    fake = Faker('fr_FR')\n",
    "    next_profile_pic = profile_pic_generator()\n",
    "    hashed_password = bcrypt.hashpw(\"auie\".encode('utf-8'), bcrypt.gensalt(10))\n",
    "    profiles = []\n",
    "    \n",
    "    for _ in tqdm(range(size)):\n",
    "        profile = fake.profile()\n",
    "        profile['hashed_password'] = hashed_password\n",
    "        name = profile['name'].split(' ')\n",
    "        profile['firstname'] = name[0]\n",
    "        profile['lastname'] = ' '.join(name[1:])\n",
    "        profile['gender'] = 'male' if profile['sex'] == 'M' else 'female'\n",
    "        profile['sexual_orientation'] = sexual_orientation()\n",
    "        profile['lookingfor'] = looking_for[profile['gender']][profile['sexual_orientation']]\n",
    "        profile['bio'] = fake.text(max_nb_chars = 200)\n",
    "        profile['num_pics'] = 1\n",
    "        profile['url_pp'] = next_profile_pic(profile['gender'])\n",
    "        profile['email'] = profile['mail']\n",
    "        lon, lat = fake.local_latlng(country_code=\"FR\", coords_only=True)\n",
    "        profile['location'] =  '(' + lat + ',' + lon + ')'\n",
    "        profile['popularity_score'] = random.randrange(100)\n",
    "        profile['verified'] = True\n",
    "        profile.pop('mail')\n",
    "        profile.pop('birthdate')\n",
    "        profile.pop('blood_group')\n",
    "        profile.pop('address')\n",
    "        profile.pop('company')\n",
    "        profile.pop('job')\n",
    "        profile.pop('name')\n",
    "        profile.pop('residence')\n",
    "        profile.pop('sex')\n",
    "        profile.pop('ssn')\n",
    "        profile.pop('website')\n",
    "        profile.pop('current_location')\n",
    "        profiles.append(profile)\n",
    "        \n",
    "    df = pd.DataFrame(profiles)\n",
    "    df['date_of_birth'] = generate_date_of_birth(min_age = 18, max_age = 77, size = size)\n",
    "    df['last_seen'] = generate_last_seen(size = size)\n",
    "    original_length = len(df)\n",
    "    df = df.drop_duplicates('username')\n",
    "    df = df.drop_duplicates('email')\n",
    "    num_duplicated = original_length - len(df)\n",
    "    if (num_duplicated):\n",
    "        print(\"dropped {} row(s) (duplicated email or username)\".format(num_duplicated))\n",
    "    return df\n"
   ]
  },
  {
   "cell_type": "code",
   "execution_count": 11,
   "metadata": {},
   "outputs": [
    {
     "name": "stderr",
     "output_type": "stream",
     "text": [
      "100%|██████████| 1000/1000 [00:08<00:00, 112.28it/s]\n"
     ]
    },
    {
     "name": "stdout",
     "output_type": "stream",
     "text": [
      "dropped 5 row(s) (duplicated email or username)\n"
     ]
    }
   ],
   "source": [
    "df = generate_fake_profiles(size = 1000)"
   ]
  },
  {
   "cell_type": "code",
   "execution_count": 12,
   "metadata": {},
   "outputs": [
    {
     "data": {
      "text/html": [
       "<div>\n",
       "<style scoped>\n",
       "    .dataframe tbody tr th:only-of-type {\n",
       "        vertical-align: middle;\n",
       "    }\n",
       "\n",
       "    .dataframe tbody tr th {\n",
       "        vertical-align: top;\n",
       "    }\n",
       "\n",
       "    .dataframe thead th {\n",
       "        text-align: right;\n",
       "    }\n",
       "</style>\n",
       "<table border=\"1\" class=\"dataframe\">\n",
       "  <thead>\n",
       "    <tr style=\"text-align: right;\">\n",
       "      <th></th>\n",
       "      <th>bio</th>\n",
       "      <th>email</th>\n",
       "      <th>firstname</th>\n",
       "      <th>gender</th>\n",
       "      <th>hashed_password</th>\n",
       "      <th>lastname</th>\n",
       "      <th>location</th>\n",
       "      <th>lookingfor</th>\n",
       "      <th>num_pics</th>\n",
       "      <th>popularity_score</th>\n",
       "      <th>sexual_orientation</th>\n",
       "      <th>url_pp</th>\n",
       "      <th>username</th>\n",
       "      <th>verified</th>\n",
       "      <th>date_of_birth</th>\n",
       "      <th>last_seen</th>\n",
       "    </tr>\n",
       "  </thead>\n",
       "  <tbody>\n",
       "    <tr>\n",
       "      <th>0</th>\n",
       "      <td>Abri rideau soumettre donc franchir voix. Cond...</td>\n",
       "      <td>pmary@tiscali.fr</td>\n",
       "      <td>Théophile</td>\n",
       "      <td>male</td>\n",
       "      <td>$2a$10$IY6DejXCxSmxipjlAI2Fz.DZ3e2J80890sSAS0f...</td>\n",
       "      <td>Gay du Hamon</td>\n",
       "      <td>(2.08333,48.86667)</td>\n",
       "      <td>{female}</td>\n",
       "      <td>1</td>\n",
       "      <td>23</td>\n",
       "      <td>heterosexual</td>\n",
       "      <td>http://i.imgur.com/xogwpav.jpg</td>\n",
       "      <td>lemonnierlucas</td>\n",
       "      <td>True</td>\n",
       "      <td>2001-05-24 01:26:50+0200</td>\n",
       "      <td>2019-06-07 00:02:33+0200</td>\n",
       "    </tr>\n",
       "    <tr>\n",
       "      <th>1</th>\n",
       "      <td>Foi chaîne cependant afin de. Mode aimer tour ...</td>\n",
       "      <td>gilbertlucie@free.fr</td>\n",
       "      <td>Isaac</td>\n",
       "      <td>male</td>\n",
       "      <td>$2a$10$IY6DejXCxSmxipjlAI2Fz.DZ3e2J80890sSAS0f...</td>\n",
       "      <td>Hardy-Cordier</td>\n",
       "      <td>(5.4384,43.2907)</td>\n",
       "      <td>{female}</td>\n",
       "      <td>1</td>\n",
       "      <td>22</td>\n",
       "      <td>heterosexual</td>\n",
       "      <td>https://i.imgur.com/gQgZuxN.jpg</td>\n",
       "      <td>amelie47</td>\n",
       "      <td>True</td>\n",
       "      <td>1991-06-27 01:26:50+0200</td>\n",
       "      <td>2019-06-06 12:01:06+0200</td>\n",
       "    </tr>\n",
       "    <tr>\n",
       "      <th>2</th>\n",
       "      <td>Personnage devoir présence minute distance deb...</td>\n",
       "      <td>jacqueslemaitre@yahoo.fr</td>\n",
       "      <td>Louise</td>\n",
       "      <td>female</td>\n",
       "      <td>$2a$10$IY6DejXCxSmxipjlAI2Fz.DZ3e2J80890sSAS0f...</td>\n",
       "      <td>Mahe</td>\n",
       "      <td>(-0.59543,44.80477)</td>\n",
       "      <td>{male,female}</td>\n",
       "      <td>1</td>\n",
       "      <td>66</td>\n",
       "      <td>bisexual</td>\n",
       "      <td>https://i.imgur.com/4bjhHMl.jpg</td>\n",
       "      <td>timothee59</td>\n",
       "      <td>True</td>\n",
       "      <td>1992-05-20 01:26:50+0200</td>\n",
       "      <td>2019-06-07 00:49:08+0200</td>\n",
       "    </tr>\n",
       "    <tr>\n",
       "      <th>3</th>\n",
       "      <td>Rendre hauteur écrire lèvre salut déjà fil.\\nD...</td>\n",
       "      <td>larocheguillaume@voila.fr</td>\n",
       "      <td>Louise</td>\n",
       "      <td>female</td>\n",
       "      <td>$2a$10$IY6DejXCxSmxipjlAI2Fz.DZ3e2J80890sSAS0f...</td>\n",
       "      <td>Robert</td>\n",
       "      <td>(2.44892,48.98693)</td>\n",
       "      <td>{male}</td>\n",
       "      <td>1</td>\n",
       "      <td>39</td>\n",
       "      <td>heterosexual</td>\n",
       "      <td>https://i.imgur.com/LZgTn1w.jpg</td>\n",
       "      <td>raymondgosselin</td>\n",
       "      <td>True</td>\n",
       "      <td>1985-03-21 01:26:50+0200</td>\n",
       "      <td>2019-06-06 23:54:37+0200</td>\n",
       "    </tr>\n",
       "    <tr>\n",
       "      <th>4</th>\n",
       "      <td>Petit intérêt tendre quatre. Bas repousser ren...</td>\n",
       "      <td>margarettexier@bouygtel.fr</td>\n",
       "      <td>William</td>\n",
       "      <td>male</td>\n",
       "      <td>$2a$10$IY6DejXCxSmxipjlAI2Fz.DZ3e2J80890sSAS0f...</td>\n",
       "      <td>Berthelot</td>\n",
       "      <td>(4.86667,45.51667)</td>\n",
       "      <td>{male,female}</td>\n",
       "      <td>1</td>\n",
       "      <td>25</td>\n",
       "      <td>bisexual</td>\n",
       "      <td>https://i.imgur.com/vJB5TeW.jpg</td>\n",
       "      <td>eweber</td>\n",
       "      <td>True</td>\n",
       "      <td>1996-06-23 01:26:50+0200</td>\n",
       "      <td>2019-06-06 19:36:17+0200</td>\n",
       "    </tr>\n",
       "  </tbody>\n",
       "</table>\n",
       "</div>"
      ],
      "text/plain": [
       "                                                 bio  \\\n",
       "0  Abri rideau soumettre donc franchir voix. Cond...   \n",
       "1  Foi chaîne cependant afin de. Mode aimer tour ...   \n",
       "2  Personnage devoir présence minute distance deb...   \n",
       "3  Rendre hauteur écrire lèvre salut déjà fil.\\nD...   \n",
       "4  Petit intérêt tendre quatre. Bas repousser ren...   \n",
       "\n",
       "                        email  firstname  gender  \\\n",
       "0            pmary@tiscali.fr  Théophile    male   \n",
       "1        gilbertlucie@free.fr      Isaac    male   \n",
       "2    jacqueslemaitre@yahoo.fr     Louise  female   \n",
       "3   larocheguillaume@voila.fr     Louise  female   \n",
       "4  margarettexier@bouygtel.fr    William    male   \n",
       "\n",
       "                                     hashed_password       lastname  \\\n",
       "0  $2a$10$IY6DejXCxSmxipjlAI2Fz.DZ3e2J80890sSAS0f...   Gay du Hamon   \n",
       "1  $2a$10$IY6DejXCxSmxipjlAI2Fz.DZ3e2J80890sSAS0f...  Hardy-Cordier   \n",
       "2  $2a$10$IY6DejXCxSmxipjlAI2Fz.DZ3e2J80890sSAS0f...           Mahe   \n",
       "3  $2a$10$IY6DejXCxSmxipjlAI2Fz.DZ3e2J80890sSAS0f...         Robert   \n",
       "4  $2a$10$IY6DejXCxSmxipjlAI2Fz.DZ3e2J80890sSAS0f...      Berthelot   \n",
       "\n",
       "              location     lookingfor  num_pics  popularity_score  \\\n",
       "0   (2.08333,48.86667)       {female}         1                23   \n",
       "1     (5.4384,43.2907)       {female}         1                22   \n",
       "2  (-0.59543,44.80477)  {male,female}         1                66   \n",
       "3   (2.44892,48.98693)         {male}         1                39   \n",
       "4   (4.86667,45.51667)  {male,female}         1                25   \n",
       "\n",
       "  sexual_orientation                           url_pp         username  \\\n",
       "0       heterosexual   http://i.imgur.com/xogwpav.jpg   lemonnierlucas   \n",
       "1       heterosexual  https://i.imgur.com/gQgZuxN.jpg         amelie47   \n",
       "2           bisexual  https://i.imgur.com/4bjhHMl.jpg       timothee59   \n",
       "3       heterosexual  https://i.imgur.com/LZgTn1w.jpg  raymondgosselin   \n",
       "4           bisexual  https://i.imgur.com/vJB5TeW.jpg           eweber   \n",
       "\n",
       "   verified             date_of_birth                 last_seen  \n",
       "0      True  2001-05-24 01:26:50+0200  2019-06-07 00:02:33+0200  \n",
       "1      True  1991-06-27 01:26:50+0200  2019-06-06 12:01:06+0200  \n",
       "2      True  1992-05-20 01:26:50+0200  2019-06-07 00:49:08+0200  \n",
       "3      True  1985-03-21 01:26:50+0200  2019-06-06 23:54:37+0200  \n",
       "4      True  1996-06-23 01:26:50+0200  2019-06-06 19:36:17+0200  "
      ]
     },
     "execution_count": 12,
     "metadata": {},
     "output_type": "execute_result"
    }
   ],
   "source": [
    "df.head()"
   ]
  },
  {
   "cell_type": "code",
   "execution_count": 29,
   "metadata": {},
   "outputs": [],
   "source": [
    "#df.to_csv(\"../db/fake_profiles.csv\", sep = ';', index_label = 'id')\n",
    "df.to_csv(\"../db/fake_profiles.csv\", sep = ';', index = False)"
   ]
  },
  {
   "cell_type": "code",
   "execution_count": null,
   "metadata": {},
   "outputs": [],
   "source": []
  },
  {
   "cell_type": "code",
   "execution_count": 30,
   "metadata": {},
   "outputs": [],
   "source": [
    "USER_MAX_HASHTAGS = 12\n",
    "\n",
    "def generate_hashtags(size = 1000, hashtag_filename = \"./hashtags.json\"):\n",
    "    users_hashtags = []\n",
    "    hashtags = []\n",
    "    with open(hashtag_filename) as hf:\n",
    "        hashtags = json.load(hf)[\"hashtags\"]\n",
    "    total_hashtags = len(hashtags)\n",
    "    for user_id in range(1, size + 1):\n",
    "        num_hashtags = random.randrange(1, USER_MAX_HASHTAGS)\n",
    "        user_hashtags = [{\"user_id\": user_id, \"hashtag_name\": hashname}\n",
    "                         for hashname in np.random.choice(hashtags, num_hashtags, replace = False)]\n",
    "        users_hashtags.extend(user_hashtags)\n",
    "        \n",
    "    df_hashtags = pd.DataFrame.from_dict({\"name\": hashtags})\n",
    "    df_users_hashtags = pd.DataFrame(users_hashtags)\n",
    "    return (df_hashtags, df_users_hashtags)"
   ]
  },
  {
   "cell_type": "code",
   "execution_count": 31,
   "metadata": {},
   "outputs": [],
   "source": [
    "(df_hashtags, df_users_hashtags) = generate_hashtags(len(df))"
   ]
  },
  {
   "cell_type": "code",
   "execution_count": 32,
   "metadata": {},
   "outputs": [
    {
     "data": {
      "text/html": [
       "<div>\n",
       "<style scoped>\n",
       "    .dataframe tbody tr th:only-of-type {\n",
       "        vertical-align: middle;\n",
       "    }\n",
       "\n",
       "    .dataframe tbody tr th {\n",
       "        vertical-align: top;\n",
       "    }\n",
       "\n",
       "    .dataframe thead th {\n",
       "        text-align: right;\n",
       "    }\n",
       "</style>\n",
       "<table border=\"1\" class=\"dataframe\">\n",
       "  <thead>\n",
       "    <tr style=\"text-align: right;\">\n",
       "      <th></th>\n",
       "      <th>name</th>\n",
       "    </tr>\n",
       "  </thead>\n",
       "  <tbody>\n",
       "    <tr>\n",
       "      <th>0</th>\n",
       "      <td>Aircraft Spotting</td>\n",
       "    </tr>\n",
       "    <tr>\n",
       "      <th>1</th>\n",
       "      <td>Airbrushing</td>\n",
       "    </tr>\n",
       "    <tr>\n",
       "      <th>2</th>\n",
       "      <td>Airsofting</td>\n",
       "    </tr>\n",
       "    <tr>\n",
       "      <th>3</th>\n",
       "      <td>Acting</td>\n",
       "    </tr>\n",
       "    <tr>\n",
       "      <th>4</th>\n",
       "      <td>Aeromodeling</td>\n",
       "    </tr>\n",
       "  </tbody>\n",
       "</table>\n",
       "</div>"
      ],
      "text/plain": [
       "                name\n",
       "0  Aircraft Spotting\n",
       "1        Airbrushing\n",
       "2         Airsofting\n",
       "3             Acting\n",
       "4       Aeromodeling"
      ]
     },
     "execution_count": 32,
     "metadata": {},
     "output_type": "execute_result"
    }
   ],
   "source": [
    "df_hashtags.head()"
   ]
  },
  {
   "cell_type": "code",
   "execution_count": 33,
   "metadata": {},
   "outputs": [
    {
     "data": {
      "text/html": [
       "<div>\n",
       "<style scoped>\n",
       "    .dataframe tbody tr th:only-of-type {\n",
       "        vertical-align: middle;\n",
       "    }\n",
       "\n",
       "    .dataframe tbody tr th {\n",
       "        vertical-align: top;\n",
       "    }\n",
       "\n",
       "    .dataframe thead th {\n",
       "        text-align: right;\n",
       "    }\n",
       "</style>\n",
       "<table border=\"1\" class=\"dataframe\">\n",
       "  <thead>\n",
       "    <tr style=\"text-align: right;\">\n",
       "      <th></th>\n",
       "      <th>hashtag_name</th>\n",
       "      <th>user_id</th>\n",
       "    </tr>\n",
       "  </thead>\n",
       "  <tbody>\n",
       "    <tr>\n",
       "      <th>0</th>\n",
       "      <td>Gun Collecting</td>\n",
       "      <td>1</td>\n",
       "    </tr>\n",
       "    <tr>\n",
       "      <th>1</th>\n",
       "      <td>Impersonations</td>\n",
       "      <td>1</td>\n",
       "    </tr>\n",
       "    <tr>\n",
       "      <th>2</th>\n",
       "      <td>Dominoes</td>\n",
       "      <td>1</td>\n",
       "    </tr>\n",
       "    <tr>\n",
       "      <th>3</th>\n",
       "      <td>Cake Decorating</td>\n",
       "      <td>1</td>\n",
       "    </tr>\n",
       "    <tr>\n",
       "      <th>4</th>\n",
       "      <td>Train Spotting</td>\n",
       "      <td>1</td>\n",
       "    </tr>\n",
       "  </tbody>\n",
       "</table>\n",
       "</div>"
      ],
      "text/plain": [
       "      hashtag_name  user_id\n",
       "0   Gun Collecting        1\n",
       "1   Impersonations        1\n",
       "2         Dominoes        1\n",
       "3  Cake Decorating        1\n",
       "4   Train Spotting        1"
      ]
     },
     "execution_count": 33,
     "metadata": {},
     "output_type": "execute_result"
    }
   ],
   "source": [
    "df_users_hashtags.head()"
   ]
  },
  {
   "cell_type": "code",
   "execution_count": 34,
   "metadata": {},
   "outputs": [],
   "source": [
    "df_hashtags.to_csv(\"../db/fake_hashtags.csv\", sep = ';', index = False)\n",
    "df_users_hashtags.to_csv(\"../db/fake_users_hashtags.csv\", sep = ';', index = False)"
   ]
  },
  {
   "cell_type": "code",
   "execution_count": null,
   "metadata": {},
   "outputs": [],
   "source": []
  }
 ],
 "metadata": {
  "kernelspec": {
   "display_name": "Python 3",
   "language": "python",
   "name": "python3"
  },
  "language_info": {
   "codemirror_mode": {
    "name": "ipython",
    "version": 3
   },
   "file_extension": ".py",
   "mimetype": "text/x-python",
   "name": "python",
   "nbconvert_exporter": "python",
   "pygments_lexer": "ipython3",
   "version": "3.6.7"
  }
 },
 "nbformat": 4,
 "nbformat_minor": 2
}
